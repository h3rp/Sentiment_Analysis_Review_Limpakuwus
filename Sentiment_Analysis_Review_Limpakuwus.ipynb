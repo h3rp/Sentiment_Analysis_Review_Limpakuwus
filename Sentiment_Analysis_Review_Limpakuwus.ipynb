{
  "nbformat": 4,
  "nbformat_minor": 0,
  "metadata": {
    "colab": {
      "provenance": []
    },
    "kernelspec": {
      "name": "python3",
      "display_name": "Python 3"
    },
    "language_info": {
      "name": "python"
    }
  },
  "cells": [
    {
      "cell_type": "code",
      "execution_count": null,
      "metadata": {
        "id": "8v1z8l8XVcyN",
        "colab": {
          "base_uri": "https://localhost:8080/"
        },
        "outputId": "7a906be3-ea98-4ced-9d3e-9710c522f67a"
      },
      "outputs": [
        {
          "output_type": "stream",
          "name": "stdout",
          "text": [
            "Drive already mounted at /content/drive; to attempt to forcibly remount, call drive.mount(\"/content/drive\", force_remount=True).\n"
          ]
        }
      ],
      "source": [
        "from google.colab import drive\n",
        "drive.mount('/content/drive')"
      ]
    },
    {
      "cell_type": "code",
      "source": [
        "import pandas as pd"
      ],
      "metadata": {
        "id": "hyIPCR5IszaD"
      },
      "execution_count": null,
      "outputs": []
    },
    {
      "cell_type": "code",
      "source": [
        "df = pd.read_excel('/content/drive/MyDrive/NLP_praktikum/Sentiment Analysis/ReviewTerbaru.xlsx', sheet_name='Hutan Pinus Limpakuwus')"
      ],
      "metadata": {
        "id": "X09JssBZtVVC"
      },
      "execution_count": null,
      "outputs": []
    },
    {
      "cell_type": "code",
      "source": [
        "df = df.drop(columns=['Nama', 'Waktu', 'Rating'])\n"
      ],
      "metadata": {
        "id": "5JNfBBraZRHf"
      },
      "execution_count": null,
      "outputs": []
    },
    {
      "cell_type": "code",
      "source": [
        "df"
      ],
      "metadata": {
        "colab": {
          "base_uri": "https://localhost:8080/",
          "height": 424
        },
        "id": "s9FbZbTVZahD",
        "outputId": "de7968fc-877c-41d5-9cf7-d21062c65d3a"
      },
      "execution_count": null,
      "outputs": [
        {
          "output_type": "execute_result",
          "data": {
            "text/plain": [
              "                                                Review\n",
              "0    Akses jalan luas dan mudah, bisa mobil dan mot...\n",
              "1    Recomended buat liburan bersama keluarga.. Tem...\n",
              "2    Sudah beberapa kali datang kesini, tempat wisa...\n",
              "3    Hutan pinus milik perhutani yang difungsikan u...\n",
              "4    Sebenarnya tempatnya oke bht,cuma ko apa2 baya...\n",
              "..                                                 ...\n",
              "175                                                NaN\n",
              "176                                                NaN\n",
              "177                                                NaN\n",
              "178                                                NaN\n",
              "179                                                NaN\n",
              "\n",
              "[180 rows x 1 columns]"
            ],
            "text/html": [
              "\n",
              "  <div id=\"df-e02c147b-a336-452f-9607-188a810eb1b5\">\n",
              "    <div class=\"colab-df-container\">\n",
              "      <div>\n",
              "<style scoped>\n",
              "    .dataframe tbody tr th:only-of-type {\n",
              "        vertical-align: middle;\n",
              "    }\n",
              "\n",
              "    .dataframe tbody tr th {\n",
              "        vertical-align: top;\n",
              "    }\n",
              "\n",
              "    .dataframe thead th {\n",
              "        text-align: right;\n",
              "    }\n",
              "</style>\n",
              "<table border=\"1\" class=\"dataframe\">\n",
              "  <thead>\n",
              "    <tr style=\"text-align: right;\">\n",
              "      <th></th>\n",
              "      <th>Review</th>\n",
              "    </tr>\n",
              "  </thead>\n",
              "  <tbody>\n",
              "    <tr>\n",
              "      <th>0</th>\n",
              "      <td>Akses jalan luas dan mudah, bisa mobil dan mot...</td>\n",
              "    </tr>\n",
              "    <tr>\n",
              "      <th>1</th>\n",
              "      <td>Recomended buat liburan bersama keluarga.. Tem...</td>\n",
              "    </tr>\n",
              "    <tr>\n",
              "      <th>2</th>\n",
              "      <td>Sudah beberapa kali datang kesini, tempat wisa...</td>\n",
              "    </tr>\n",
              "    <tr>\n",
              "      <th>3</th>\n",
              "      <td>Hutan pinus milik perhutani yang difungsikan u...</td>\n",
              "    </tr>\n",
              "    <tr>\n",
              "      <th>4</th>\n",
              "      <td>Sebenarnya tempatnya oke bht,cuma ko apa2 baya...</td>\n",
              "    </tr>\n",
              "    <tr>\n",
              "      <th>...</th>\n",
              "      <td>...</td>\n",
              "    </tr>\n",
              "    <tr>\n",
              "      <th>175</th>\n",
              "      <td>NaN</td>\n",
              "    </tr>\n",
              "    <tr>\n",
              "      <th>176</th>\n",
              "      <td>NaN</td>\n",
              "    </tr>\n",
              "    <tr>\n",
              "      <th>177</th>\n",
              "      <td>NaN</td>\n",
              "    </tr>\n",
              "    <tr>\n",
              "      <th>178</th>\n",
              "      <td>NaN</td>\n",
              "    </tr>\n",
              "    <tr>\n",
              "      <th>179</th>\n",
              "      <td>NaN</td>\n",
              "    </tr>\n",
              "  </tbody>\n",
              "</table>\n",
              "<p>180 rows × 1 columns</p>\n",
              "</div>\n",
              "      <button class=\"colab-df-convert\" onclick=\"convertToInteractive('df-e02c147b-a336-452f-9607-188a810eb1b5')\"\n",
              "              title=\"Convert this dataframe to an interactive table.\"\n",
              "              style=\"display:none;\">\n",
              "        \n",
              "  <svg xmlns=\"http://www.w3.org/2000/svg\" height=\"24px\"viewBox=\"0 0 24 24\"\n",
              "       width=\"24px\">\n",
              "    <path d=\"M0 0h24v24H0V0z\" fill=\"none\"/>\n",
              "    <path d=\"M18.56 5.44l.94 2.06.94-2.06 2.06-.94-2.06-.94-.94-2.06-.94 2.06-2.06.94zm-11 1L8.5 8.5l.94-2.06 2.06-.94-2.06-.94L8.5 2.5l-.94 2.06-2.06.94zm10 10l.94 2.06.94-2.06 2.06-.94-2.06-.94-.94-2.06-.94 2.06-2.06.94z\"/><path d=\"M17.41 7.96l-1.37-1.37c-.4-.4-.92-.59-1.43-.59-.52 0-1.04.2-1.43.59L10.3 9.45l-7.72 7.72c-.78.78-.78 2.05 0 2.83L4 21.41c.39.39.9.59 1.41.59.51 0 1.02-.2 1.41-.59l7.78-7.78 2.81-2.81c.8-.78.8-2.07 0-2.86zM5.41 20L4 18.59l7.72-7.72 1.47 1.35L5.41 20z\"/>\n",
              "  </svg>\n",
              "      </button>\n",
              "      \n",
              "  <style>\n",
              "    .colab-df-container {\n",
              "      display:flex;\n",
              "      flex-wrap:wrap;\n",
              "      gap: 12px;\n",
              "    }\n",
              "\n",
              "    .colab-df-convert {\n",
              "      background-color: #E8F0FE;\n",
              "      border: none;\n",
              "      border-radius: 50%;\n",
              "      cursor: pointer;\n",
              "      display: none;\n",
              "      fill: #1967D2;\n",
              "      height: 32px;\n",
              "      padding: 0 0 0 0;\n",
              "      width: 32px;\n",
              "    }\n",
              "\n",
              "    .colab-df-convert:hover {\n",
              "      background-color: #E2EBFA;\n",
              "      box-shadow: 0px 1px 2px rgba(60, 64, 67, 0.3), 0px 1px 3px 1px rgba(60, 64, 67, 0.15);\n",
              "      fill: #174EA6;\n",
              "    }\n",
              "\n",
              "    [theme=dark] .colab-df-convert {\n",
              "      background-color: #3B4455;\n",
              "      fill: #D2E3FC;\n",
              "    }\n",
              "\n",
              "    [theme=dark] .colab-df-convert:hover {\n",
              "      background-color: #434B5C;\n",
              "      box-shadow: 0px 1px 3px 1px rgba(0, 0, 0, 0.15);\n",
              "      filter: drop-shadow(0px 1px 2px rgba(0, 0, 0, 0.3));\n",
              "      fill: #FFFFFF;\n",
              "    }\n",
              "  </style>\n",
              "\n",
              "      <script>\n",
              "        const buttonEl =\n",
              "          document.querySelector('#df-e02c147b-a336-452f-9607-188a810eb1b5 button.colab-df-convert');\n",
              "        buttonEl.style.display =\n",
              "          google.colab.kernel.accessAllowed ? 'block' : 'none';\n",
              "\n",
              "        async function convertToInteractive(key) {\n",
              "          const element = document.querySelector('#df-e02c147b-a336-452f-9607-188a810eb1b5');\n",
              "          const dataTable =\n",
              "            await google.colab.kernel.invokeFunction('convertToInteractive',\n",
              "                                                     [key], {});\n",
              "          if (!dataTable) return;\n",
              "\n",
              "          const docLinkHtml = 'Like what you see? Visit the ' +\n",
              "            '<a target=\"_blank\" href=https://colab.research.google.com/notebooks/data_table.ipynb>data table notebook</a>'\n",
              "            + ' to learn more about interactive tables.';\n",
              "          element.innerHTML = '';\n",
              "          dataTable['output_type'] = 'display_data';\n",
              "          await google.colab.output.renderOutput(dataTable, element);\n",
              "          const docLink = document.createElement('div');\n",
              "          docLink.innerHTML = docLinkHtml;\n",
              "          element.appendChild(docLink);\n",
              "        }\n",
              "      </script>\n",
              "    </div>\n",
              "  </div>\n",
              "  "
            ]
          },
          "metadata": {},
          "execution_count": 5
        }
      ]
    },
    {
      "cell_type": "code",
      "source": [
        "df = df.dropna()"
      ],
      "metadata": {
        "id": "bPMADfjfZytj"
      },
      "execution_count": null,
      "outputs": []
    },
    {
      "cell_type": "code",
      "source": [
        "df.columns"
      ],
      "metadata": {
        "colab": {
          "base_uri": "https://localhost:8080/"
        },
        "id": "yiuw7jB7Z94M",
        "outputId": "bddef397-8cd5-4575-cfde-96d8bf7599a7"
      },
      "execution_count": null,
      "outputs": [
        {
          "output_type": "execute_result",
          "data": {
            "text/plain": [
              "Index(['Review'], dtype='object')"
            ]
          },
          "metadata": {},
          "execution_count": 7
        }
      ]
    },
    {
      "cell_type": "code",
      "source": [
        "def casefolding(text):\n",
        "  text = text.lower()\n",
        "  return text\n",
        "\n",
        "df['Review'] = df['Review'].apply(casefolding)"
      ],
      "metadata": {
        "colab": {
          "base_uri": "https://localhost:8080/"
        },
        "id": "YiJGu2WCZ-yp",
        "outputId": "ca16052b-9fc3-4baa-df5e-378f846afe75"
      },
      "execution_count": null,
      "outputs": [
        {
          "output_type": "stream",
          "name": "stderr",
          "text": [
            "<ipython-input-8-bd1681a1acad>:5: SettingWithCopyWarning: \n",
            "A value is trying to be set on a copy of a slice from a DataFrame.\n",
            "Try using .loc[row_indexer,col_indexer] = value instead\n",
            "\n",
            "See the caveats in the documentation: https://pandas.pydata.org/pandas-docs/stable/user_guide/indexing.html#returning-a-view-versus-a-copy\n",
            "  df['Review'] = df['Review'].apply(casefolding)\n"
          ]
        }
      ]
    },
    {
      "cell_type": "code",
      "source": [
        "import re\n",
        "import string\n",
        "\n",
        "def clean(text):\n",
        "  text = re.sub(r'@[A-Za-z0-9]+', '', str(text))\n",
        "  text = re.sub(r'#[A-Za-z0-9]+', '', str(text))\n",
        "  text = re.sub(r'RT[\\s]', '', str(text))\n",
        "  text = re.sub(r'diterjemahkan oleh google', '', str(text))\n",
        "  text = re.sub(r'http\\S+', '', str(text))\n",
        "  text = re.sub(r'[0-9]+', '', str(text))\n",
        "  text = re.sub(r'\\s+[a-zA-Z]\\s+', '', str(text))#remove single character\n",
        "\n",
        "\n",
        "  text = text.replace('\\n', ' ')\n",
        "  text = text.translate(str.maketrans('', '', string.punctuation))\n",
        "  text = text.strip(' ')\n",
        "  return text\n",
        "\n",
        "def remove_emoji(text):\n",
        "    emoji_pattern = re.compile(\"[\"\n",
        "            u\"\\U0001F600-\\U0001F64F\"  # emoticons\n",
        "            u\"\\U0001F300-\\U0001F5FF\"  # symbols & pictographs\n",
        "            u\"\\U0001F680-\\U0001F6FF\"  # transport & map symbols\n",
        "            u\"\\U0001F1E0-\\U0001F1FF\"  # flags (iOS)\n",
        "            u\"\\U00002700-\\U000027BF\"  # Dingbats\n",
        "            u\"\\U0001F600-\\U0001F64F\" # emoticons\n",
        "            u\"\\U00002500-\\U00002BEF\" # chinese char\n",
        "            u\"\\U00002702-\\U000027B0\"\n",
        "            u\"\\U00002702-\\U000027B0\"\n",
        "            u\"\\U000024C2-\\U0001F251\"\n",
        "            u\"\\U0001f926-\\U0001f937\"\n",
        "            u\"\\U00010000-\\U0010ffff\"\n",
        "            u\"\\u2640-\\u2642\"\n",
        "            u\"\\u2600-\\u2B55\"\n",
        "            u\"\\u200d\"\n",
        "            u\"\\u23cf\"\n",
        "            u\"\\u23e9\"\n",
        "            u\"\\u231a\"\n",
        "            u\"\\ufe0f\" # dingbats\n",
        "                               \"]+\", flags=re.UNICODE)\n",
        "    return emoji_pattern.sub(r'', text)\n",
        "\n",
        "df['cleaned Review']  = df['Review'].apply(clean)\n",
        "df['cleaned Review'] = df['cleaned Review'].apply(remove_emoji)\n",
        "\n"
      ],
      "metadata": {
        "colab": {
          "base_uri": "https://localhost:8080/"
        },
        "id": "YYbHOImVcqs9",
        "outputId": "6c851103-fc89-427a-d05b-e713edc5c081"
      },
      "execution_count": null,
      "outputs": [
        {
          "output_type": "stream",
          "name": "stderr",
          "text": [
            "<ipython-input-9-ac54d2cca945>:43: SettingWithCopyWarning: \n",
            "A value is trying to be set on a copy of a slice from a DataFrame.\n",
            "Try using .loc[row_indexer,col_indexer] = value instead\n",
            "\n",
            "See the caveats in the documentation: https://pandas.pydata.org/pandas-docs/stable/user_guide/indexing.html#returning-a-view-versus-a-copy\n",
            "  df['cleaned Review']  = df['Review'].apply(clean)\n",
            "<ipython-input-9-ac54d2cca945>:44: SettingWithCopyWarning: \n",
            "A value is trying to be set on a copy of a slice from a DataFrame.\n",
            "Try using .loc[row_indexer,col_indexer] = value instead\n",
            "\n",
            "See the caveats in the documentation: https://pandas.pydata.org/pandas-docs/stable/user_guide/indexing.html#returning-a-view-versus-a-copy\n",
            "  df['cleaned Review'] = df['cleaned Review'].apply(remove_emoji)\n"
          ]
        }
      ]
    },
    {
      "cell_type": "code",
      "source": [
        "df"
      ],
      "metadata": {
        "colab": {
          "base_uri": "https://localhost:8080/",
          "height": 424
        },
        "id": "01q3CUG1gztr",
        "outputId": "23216bc4-5b76-4e3b-f173-64db445ea09f"
      },
      "execution_count": null,
      "outputs": [
        {
          "output_type": "execute_result",
          "data": {
            "text/plain": [
              "                                                Review  \\\n",
              "0    akses jalan luas dan mudah, bisa mobil dan mot...   \n",
              "1    recomended buat liburan bersama keluarga.. tem...   \n",
              "2    sudah beberapa kali datang kesini, tempat wisa...   \n",
              "3    hutan pinus milik perhutani yang difungsikan u...   \n",
              "4    sebenarnya tempatnya oke bht,cuma ko apa2 baya...   \n",
              "..                                                 ...   \n",
              "160  (diterjemahkan oleh google) menarik keren dan ...   \n",
              "161  (diterjemahkan oleh google) ademmm ...  (asli)...   \n",
              "162  (diterjemahkan oleh google) cantik untuk berke...   \n",
              "163  (diterjemahkan oleh google) dicampuradukkan  (...   \n",
              "164      (diterjemahkan oleh google) baik  (asli) good   \n",
              "\n",
              "                                        cleaned Review  \n",
              "0    akses jalan luas dan mudah bisa mobil dan moto...  \n",
              "1    recomended buat liburan bersama keluarga tempa...  \n",
              "2    sudah beberapa kali datang kesini tempat wisat...  \n",
              "3    hutan pinus milik perhutani yang difungsikan u...  \n",
              "4    sebenarnya tempatnya oke bhtcuma ko apa bayar ...  \n",
              "..                                                 ...  \n",
              "160  menarik keren dan cantik  asli menarik sejuk d...  \n",
              "161                               ademmm   asli ademmm  \n",
              "162  cantik untuk berkemah  asli beautiful for camping  \n",
              "163                     dicampuradukkan  asli segeerrr  \n",
              "164                                    baik  asli good  \n",
              "\n",
              "[165 rows x 2 columns]"
            ],
            "text/html": [
              "\n",
              "  <div id=\"df-f62dad4f-5ba1-4f1c-95fc-06725eb0a9d6\">\n",
              "    <div class=\"colab-df-container\">\n",
              "      <div>\n",
              "<style scoped>\n",
              "    .dataframe tbody tr th:only-of-type {\n",
              "        vertical-align: middle;\n",
              "    }\n",
              "\n",
              "    .dataframe tbody tr th {\n",
              "        vertical-align: top;\n",
              "    }\n",
              "\n",
              "    .dataframe thead th {\n",
              "        text-align: right;\n",
              "    }\n",
              "</style>\n",
              "<table border=\"1\" class=\"dataframe\">\n",
              "  <thead>\n",
              "    <tr style=\"text-align: right;\">\n",
              "      <th></th>\n",
              "      <th>Review</th>\n",
              "      <th>cleaned Review</th>\n",
              "    </tr>\n",
              "  </thead>\n",
              "  <tbody>\n",
              "    <tr>\n",
              "      <th>0</th>\n",
              "      <td>akses jalan luas dan mudah, bisa mobil dan mot...</td>\n",
              "      <td>akses jalan luas dan mudah bisa mobil dan moto...</td>\n",
              "    </tr>\n",
              "    <tr>\n",
              "      <th>1</th>\n",
              "      <td>recomended buat liburan bersama keluarga.. tem...</td>\n",
              "      <td>recomended buat liburan bersama keluarga tempa...</td>\n",
              "    </tr>\n",
              "    <tr>\n",
              "      <th>2</th>\n",
              "      <td>sudah beberapa kali datang kesini, tempat wisa...</td>\n",
              "      <td>sudah beberapa kali datang kesini tempat wisat...</td>\n",
              "    </tr>\n",
              "    <tr>\n",
              "      <th>3</th>\n",
              "      <td>hutan pinus milik perhutani yang difungsikan u...</td>\n",
              "      <td>hutan pinus milik perhutani yang difungsikan u...</td>\n",
              "    </tr>\n",
              "    <tr>\n",
              "      <th>4</th>\n",
              "      <td>sebenarnya tempatnya oke bht,cuma ko apa2 baya...</td>\n",
              "      <td>sebenarnya tempatnya oke bhtcuma ko apa bayar ...</td>\n",
              "    </tr>\n",
              "    <tr>\n",
              "      <th>...</th>\n",
              "      <td>...</td>\n",
              "      <td>...</td>\n",
              "    </tr>\n",
              "    <tr>\n",
              "      <th>160</th>\n",
              "      <td>(diterjemahkan oleh google) menarik keren dan ...</td>\n",
              "      <td>menarik keren dan cantik  asli menarik sejuk d...</td>\n",
              "    </tr>\n",
              "    <tr>\n",
              "      <th>161</th>\n",
              "      <td>(diterjemahkan oleh google) ademmm ...  (asli)...</td>\n",
              "      <td>ademmm   asli ademmm</td>\n",
              "    </tr>\n",
              "    <tr>\n",
              "      <th>162</th>\n",
              "      <td>(diterjemahkan oleh google) cantik untuk berke...</td>\n",
              "      <td>cantik untuk berkemah  asli beautiful for camping</td>\n",
              "    </tr>\n",
              "    <tr>\n",
              "      <th>163</th>\n",
              "      <td>(diterjemahkan oleh google) dicampuradukkan  (...</td>\n",
              "      <td>dicampuradukkan  asli segeerrr</td>\n",
              "    </tr>\n",
              "    <tr>\n",
              "      <th>164</th>\n",
              "      <td>(diterjemahkan oleh google) baik  (asli) good</td>\n",
              "      <td>baik  asli good</td>\n",
              "    </tr>\n",
              "  </tbody>\n",
              "</table>\n",
              "<p>165 rows × 2 columns</p>\n",
              "</div>\n",
              "      <button class=\"colab-df-convert\" onclick=\"convertToInteractive('df-f62dad4f-5ba1-4f1c-95fc-06725eb0a9d6')\"\n",
              "              title=\"Convert this dataframe to an interactive table.\"\n",
              "              style=\"display:none;\">\n",
              "        \n",
              "  <svg xmlns=\"http://www.w3.org/2000/svg\" height=\"24px\"viewBox=\"0 0 24 24\"\n",
              "       width=\"24px\">\n",
              "    <path d=\"M0 0h24v24H0V0z\" fill=\"none\"/>\n",
              "    <path d=\"M18.56 5.44l.94 2.06.94-2.06 2.06-.94-2.06-.94-.94-2.06-.94 2.06-2.06.94zm-11 1L8.5 8.5l.94-2.06 2.06-.94-2.06-.94L8.5 2.5l-.94 2.06-2.06.94zm10 10l.94 2.06.94-2.06 2.06-.94-2.06-.94-.94-2.06-.94 2.06-2.06.94z\"/><path d=\"M17.41 7.96l-1.37-1.37c-.4-.4-.92-.59-1.43-.59-.52 0-1.04.2-1.43.59L10.3 9.45l-7.72 7.72c-.78.78-.78 2.05 0 2.83L4 21.41c.39.39.9.59 1.41.59.51 0 1.02-.2 1.41-.59l7.78-7.78 2.81-2.81c.8-.78.8-2.07 0-2.86zM5.41 20L4 18.59l7.72-7.72 1.47 1.35L5.41 20z\"/>\n",
              "  </svg>\n",
              "      </button>\n",
              "      \n",
              "  <style>\n",
              "    .colab-df-container {\n",
              "      display:flex;\n",
              "      flex-wrap:wrap;\n",
              "      gap: 12px;\n",
              "    }\n",
              "\n",
              "    .colab-df-convert {\n",
              "      background-color: #E8F0FE;\n",
              "      border: none;\n",
              "      border-radius: 50%;\n",
              "      cursor: pointer;\n",
              "      display: none;\n",
              "      fill: #1967D2;\n",
              "      height: 32px;\n",
              "      padding: 0 0 0 0;\n",
              "      width: 32px;\n",
              "    }\n",
              "\n",
              "    .colab-df-convert:hover {\n",
              "      background-color: #E2EBFA;\n",
              "      box-shadow: 0px 1px 2px rgba(60, 64, 67, 0.3), 0px 1px 3px 1px rgba(60, 64, 67, 0.15);\n",
              "      fill: #174EA6;\n",
              "    }\n",
              "\n",
              "    [theme=dark] .colab-df-convert {\n",
              "      background-color: #3B4455;\n",
              "      fill: #D2E3FC;\n",
              "    }\n",
              "\n",
              "    [theme=dark] .colab-df-convert:hover {\n",
              "      background-color: #434B5C;\n",
              "      box-shadow: 0px 1px 3px 1px rgba(0, 0, 0, 0.15);\n",
              "      filter: drop-shadow(0px 1px 2px rgba(0, 0, 0, 0.3));\n",
              "      fill: #FFFFFF;\n",
              "    }\n",
              "  </style>\n",
              "\n",
              "      <script>\n",
              "        const buttonEl =\n",
              "          document.querySelector('#df-f62dad4f-5ba1-4f1c-95fc-06725eb0a9d6 button.colab-df-convert');\n",
              "        buttonEl.style.display =\n",
              "          google.colab.kernel.accessAllowed ? 'block' : 'none';\n",
              "\n",
              "        async function convertToInteractive(key) {\n",
              "          const element = document.querySelector('#df-f62dad4f-5ba1-4f1c-95fc-06725eb0a9d6');\n",
              "          const dataTable =\n",
              "            await google.colab.kernel.invokeFunction('convertToInteractive',\n",
              "                                                     [key], {});\n",
              "          if (!dataTable) return;\n",
              "\n",
              "          const docLinkHtml = 'Like what you see? Visit the ' +\n",
              "            '<a target=\"_blank\" href=https://colab.research.google.com/notebooks/data_table.ipynb>data table notebook</a>'\n",
              "            + ' to learn more about interactive tables.';\n",
              "          element.innerHTML = '';\n",
              "          dataTable['output_type'] = 'display_data';\n",
              "          await google.colab.output.renderOutput(dataTable, element);\n",
              "          const docLink = document.createElement('div');\n",
              "          docLink.innerHTML = docLinkHtml;\n",
              "          element.appendChild(docLink);\n",
              "        }\n",
              "      </script>\n",
              "    </div>\n",
              "  </div>\n",
              "  "
            ]
          },
          "metadata": {},
          "execution_count": 10
        }
      ]
    },
    {
      "cell_type": "code",
      "source": [
        "import nltk\n",
        "nltk.download('punkt')\n",
        "from nltk import word_tokenize"
      ],
      "metadata": {
        "colab": {
          "base_uri": "https://localhost:8080/"
        },
        "id": "K_N05DjC96tz",
        "outputId": "0e09f139-8b3a-4405-c649-840bd7bb254b"
      },
      "execution_count": null,
      "outputs": [
        {
          "output_type": "stream",
          "name": "stderr",
          "text": [
            "[nltk_data] Downloading package punkt to /root/nltk_data...\n",
            "[nltk_data]   Package punkt is already up-to-date!\n"
          ]
        }
      ]
    },
    {
      "cell_type": "code",
      "source": [
        "kamus = [['gue', 'aku'],\n",
        "         ['elo', 'kamu'],\n",
        "         ['good', 'bagus'],\n",
        "         ['ademmm', 'adem'],\n",
        "         ['segeerrr', 'segar'],\n",
        "         ['beautiful', 'cantik']\n",
        "         ]\n",
        "def konversi_slangword(kalimat, kamus):\n",
        "  kalimatbaru=''\n",
        "  if len(kalimat)>0:\n",
        "    for kata in word_tokenize(kalimat):\n",
        "      katabaru= kata.strip()\n",
        "      for i in range(len(kamus)):\n",
        "        if katabaru==kamus[i][0]:\n",
        "          katabaru=kamus[i][1]\n",
        "      kalimatbaru=kalimatbaru+' '+katabaru\n",
        "  return kalimatbaru\n",
        "\n",
        "df['cleaned Review'] = df['cleaned Review'].apply(konversi_slangword, kamus=kamus)"
      ],
      "metadata": {
        "colab": {
          "base_uri": "https://localhost:8080/"
        },
        "id": "qJYWoq8OeQbp",
        "outputId": "74ee0b87-4dd1-465b-e539-3db06fc95756"
      },
      "execution_count": null,
      "outputs": [
        {
          "output_type": "stream",
          "name": "stderr",
          "text": [
            "<ipython-input-15-f6a4a5284653>:19: SettingWithCopyWarning: \n",
            "A value is trying to be set on a copy of a slice from a DataFrame.\n",
            "Try using .loc[row_indexer,col_indexer] = value instead\n",
            "\n",
            "See the caveats in the documentation: https://pandas.pydata.org/pandas-docs/stable/user_guide/indexing.html#returning-a-view-versus-a-copy\n",
            "  df['cleaned Review'] = df['cleaned Review'].apply(konversi_slangword, kamus=kamus)\n"
          ]
        }
      ]
    },
    {
      "cell_type": "code",
      "source": [
        "def tokenize(text):\n",
        "  text = word_tokenize(text)\n",
        "  return text\n",
        "\n",
        "df['tokenize'] = df['cleaned Review'].apply(tokenize)"
      ],
      "metadata": {
        "colab": {
          "base_uri": "https://localhost:8080/"
        },
        "id": "6_kiE2acbBfj",
        "outputId": "7eaac33b-577c-4275-826e-64e2e21ae6d2"
      },
      "execution_count": null,
      "outputs": [
        {
          "output_type": "stream",
          "name": "stderr",
          "text": [
            "<ipython-input-16-5b8b56bb7ac9>:5: SettingWithCopyWarning: \n",
            "A value is trying to be set on a copy of a slice from a DataFrame.\n",
            "Try using .loc[row_indexer,col_indexer] = value instead\n",
            "\n",
            "See the caveats in the documentation: https://pandas.pydata.org/pandas-docs/stable/user_guide/indexing.html#returning-a-view-versus-a-copy\n",
            "  df['tokenize'] = df['cleaned Review'].apply(tokenize)\n"
          ]
        }
      ]
    },
    {
      "cell_type": "code",
      "source": [
        "df"
      ],
      "metadata": {
        "colab": {
          "base_uri": "https://localhost:8080/",
          "height": 424
        },
        "id": "dRBG4ZKBcQSb",
        "outputId": "23d62007-3518-4cc4-9698-914a7ec5b6e9"
      },
      "execution_count": null,
      "outputs": [
        {
          "output_type": "execute_result",
          "data": {
            "text/plain": [
              "                                                Review  \\\n",
              "0    akses jalan luas dan mudah, bisa mobil dan mot...   \n",
              "1    recomended buat liburan bersama keluarga.. tem...   \n",
              "2    sudah beberapa kali datang kesini, tempat wisa...   \n",
              "3    hutan pinus milik perhutani yang difungsikan u...   \n",
              "4    sebenarnya tempatnya oke bht,cuma ko apa2 baya...   \n",
              "..                                                 ...   \n",
              "160  (diterjemahkan oleh google) menarik keren dan ...   \n",
              "161  (diterjemahkan oleh google) ademmm ...  (asli)...   \n",
              "162  (diterjemahkan oleh google) cantik untuk berke...   \n",
              "163  (diterjemahkan oleh google) dicampuradukkan  (...   \n",
              "164      (diterjemahkan oleh google) baik  (asli) good   \n",
              "\n",
              "                                        cleaned Review  \\\n",
              "0     akses jalan luas dan mudah bisa mobil dan mot...   \n",
              "1     recomended buat liburan bersama keluarga temp...   \n",
              "2     sudah beberapa kali datang kesini tempat wisa...   \n",
              "3     hutan pinus milik perhutani yang difungsikan ...   \n",
              "4     sebenarnya tempatnya oke bhtcuma ko apa bayar...   \n",
              "..                                                 ...   \n",
              "160   menarik keren dan cantik asli menarik sejuk d...   \n",
              "161                                     adem asli adem   \n",
              "162      cantik untuk berkemah asli cantik for camping   \n",
              "163                         dicampuradukkan asli segar   \n",
              "164                                    baik asli bagus   \n",
              "\n",
              "                                              tokenize  \n",
              "0    [akses, jalan, luas, dan, mudah, bisa, mobil, ...  \n",
              "1    [recomended, buat, liburan, bersama, keluarga,...  \n",
              "2    [sudah, beberapa, kali, datang, kesini, tempat...  \n",
              "3    [hutan, pinus, milik, perhutani, yang, difungs...  \n",
              "4    [sebenarnya, tempatnya, oke, bhtcuma, ko, apa,...  \n",
              "..                                                 ...  \n",
              "160  [menarik, keren, dan, cantik, asli, menarik, s...  \n",
              "161                                 [adem, asli, adem]  \n",
              "162  [cantik, untuk, berkemah, asli, cantik, for, c...  \n",
              "163                     [dicampuradukkan, asli, segar]  \n",
              "164                                [baik, asli, bagus]  \n",
              "\n",
              "[165 rows x 3 columns]"
            ],
            "text/html": [
              "\n",
              "  <div id=\"df-aba444d7-d771-4542-bc63-e59f523b5355\">\n",
              "    <div class=\"colab-df-container\">\n",
              "      <div>\n",
              "<style scoped>\n",
              "    .dataframe tbody tr th:only-of-type {\n",
              "        vertical-align: middle;\n",
              "    }\n",
              "\n",
              "    .dataframe tbody tr th {\n",
              "        vertical-align: top;\n",
              "    }\n",
              "\n",
              "    .dataframe thead th {\n",
              "        text-align: right;\n",
              "    }\n",
              "</style>\n",
              "<table border=\"1\" class=\"dataframe\">\n",
              "  <thead>\n",
              "    <tr style=\"text-align: right;\">\n",
              "      <th></th>\n",
              "      <th>Review</th>\n",
              "      <th>cleaned Review</th>\n",
              "      <th>tokenize</th>\n",
              "    </tr>\n",
              "  </thead>\n",
              "  <tbody>\n",
              "    <tr>\n",
              "      <th>0</th>\n",
              "      <td>akses jalan luas dan mudah, bisa mobil dan mot...</td>\n",
              "      <td>akses jalan luas dan mudah bisa mobil dan mot...</td>\n",
              "      <td>[akses, jalan, luas, dan, mudah, bisa, mobil, ...</td>\n",
              "    </tr>\n",
              "    <tr>\n",
              "      <th>1</th>\n",
              "      <td>recomended buat liburan bersama keluarga.. tem...</td>\n",
              "      <td>recomended buat liburan bersama keluarga temp...</td>\n",
              "      <td>[recomended, buat, liburan, bersama, keluarga,...</td>\n",
              "    </tr>\n",
              "    <tr>\n",
              "      <th>2</th>\n",
              "      <td>sudah beberapa kali datang kesini, tempat wisa...</td>\n",
              "      <td>sudah beberapa kali datang kesini tempat wisa...</td>\n",
              "      <td>[sudah, beberapa, kali, datang, kesini, tempat...</td>\n",
              "    </tr>\n",
              "    <tr>\n",
              "      <th>3</th>\n",
              "      <td>hutan pinus milik perhutani yang difungsikan u...</td>\n",
              "      <td>hutan pinus milik perhutani yang difungsikan ...</td>\n",
              "      <td>[hutan, pinus, milik, perhutani, yang, difungs...</td>\n",
              "    </tr>\n",
              "    <tr>\n",
              "      <th>4</th>\n",
              "      <td>sebenarnya tempatnya oke bht,cuma ko apa2 baya...</td>\n",
              "      <td>sebenarnya tempatnya oke bhtcuma ko apa bayar...</td>\n",
              "      <td>[sebenarnya, tempatnya, oke, bhtcuma, ko, apa,...</td>\n",
              "    </tr>\n",
              "    <tr>\n",
              "      <th>...</th>\n",
              "      <td>...</td>\n",
              "      <td>...</td>\n",
              "      <td>...</td>\n",
              "    </tr>\n",
              "    <tr>\n",
              "      <th>160</th>\n",
              "      <td>(diterjemahkan oleh google) menarik keren dan ...</td>\n",
              "      <td>menarik keren dan cantik asli menarik sejuk d...</td>\n",
              "      <td>[menarik, keren, dan, cantik, asli, menarik, s...</td>\n",
              "    </tr>\n",
              "    <tr>\n",
              "      <th>161</th>\n",
              "      <td>(diterjemahkan oleh google) ademmm ...  (asli)...</td>\n",
              "      <td>adem asli adem</td>\n",
              "      <td>[adem, asli, adem]</td>\n",
              "    </tr>\n",
              "    <tr>\n",
              "      <th>162</th>\n",
              "      <td>(diterjemahkan oleh google) cantik untuk berke...</td>\n",
              "      <td>cantik untuk berkemah asli cantik for camping</td>\n",
              "      <td>[cantik, untuk, berkemah, asli, cantik, for, c...</td>\n",
              "    </tr>\n",
              "    <tr>\n",
              "      <th>163</th>\n",
              "      <td>(diterjemahkan oleh google) dicampuradukkan  (...</td>\n",
              "      <td>dicampuradukkan asli segar</td>\n",
              "      <td>[dicampuradukkan, asli, segar]</td>\n",
              "    </tr>\n",
              "    <tr>\n",
              "      <th>164</th>\n",
              "      <td>(diterjemahkan oleh google) baik  (asli) good</td>\n",
              "      <td>baik asli bagus</td>\n",
              "      <td>[baik, asli, bagus]</td>\n",
              "    </tr>\n",
              "  </tbody>\n",
              "</table>\n",
              "<p>165 rows × 3 columns</p>\n",
              "</div>\n",
              "      <button class=\"colab-df-convert\" onclick=\"convertToInteractive('df-aba444d7-d771-4542-bc63-e59f523b5355')\"\n",
              "              title=\"Convert this dataframe to an interactive table.\"\n",
              "              style=\"display:none;\">\n",
              "        \n",
              "  <svg xmlns=\"http://www.w3.org/2000/svg\" height=\"24px\"viewBox=\"0 0 24 24\"\n",
              "       width=\"24px\">\n",
              "    <path d=\"M0 0h24v24H0V0z\" fill=\"none\"/>\n",
              "    <path d=\"M18.56 5.44l.94 2.06.94-2.06 2.06-.94-2.06-.94-.94-2.06-.94 2.06-2.06.94zm-11 1L8.5 8.5l.94-2.06 2.06-.94-2.06-.94L8.5 2.5l-.94 2.06-2.06.94zm10 10l.94 2.06.94-2.06 2.06-.94-2.06-.94-.94-2.06-.94 2.06-2.06.94z\"/><path d=\"M17.41 7.96l-1.37-1.37c-.4-.4-.92-.59-1.43-.59-.52 0-1.04.2-1.43.59L10.3 9.45l-7.72 7.72c-.78.78-.78 2.05 0 2.83L4 21.41c.39.39.9.59 1.41.59.51 0 1.02-.2 1.41-.59l7.78-7.78 2.81-2.81c.8-.78.8-2.07 0-2.86zM5.41 20L4 18.59l7.72-7.72 1.47 1.35L5.41 20z\"/>\n",
              "  </svg>\n",
              "      </button>\n",
              "      \n",
              "  <style>\n",
              "    .colab-df-container {\n",
              "      display:flex;\n",
              "      flex-wrap:wrap;\n",
              "      gap: 12px;\n",
              "    }\n",
              "\n",
              "    .colab-df-convert {\n",
              "      background-color: #E8F0FE;\n",
              "      border: none;\n",
              "      border-radius: 50%;\n",
              "      cursor: pointer;\n",
              "      display: none;\n",
              "      fill: #1967D2;\n",
              "      height: 32px;\n",
              "      padding: 0 0 0 0;\n",
              "      width: 32px;\n",
              "    }\n",
              "\n",
              "    .colab-df-convert:hover {\n",
              "      background-color: #E2EBFA;\n",
              "      box-shadow: 0px 1px 2px rgba(60, 64, 67, 0.3), 0px 1px 3px 1px rgba(60, 64, 67, 0.15);\n",
              "      fill: #174EA6;\n",
              "    }\n",
              "\n",
              "    [theme=dark] .colab-df-convert {\n",
              "      background-color: #3B4455;\n",
              "      fill: #D2E3FC;\n",
              "    }\n",
              "\n",
              "    [theme=dark] .colab-df-convert:hover {\n",
              "      background-color: #434B5C;\n",
              "      box-shadow: 0px 1px 3px 1px rgba(0, 0, 0, 0.15);\n",
              "      filter: drop-shadow(0px 1px 2px rgba(0, 0, 0, 0.3));\n",
              "      fill: #FFFFFF;\n",
              "    }\n",
              "  </style>\n",
              "\n",
              "      <script>\n",
              "        const buttonEl =\n",
              "          document.querySelector('#df-aba444d7-d771-4542-bc63-e59f523b5355 button.colab-df-convert');\n",
              "        buttonEl.style.display =\n",
              "          google.colab.kernel.accessAllowed ? 'block' : 'none';\n",
              "\n",
              "        async function convertToInteractive(key) {\n",
              "          const element = document.querySelector('#df-aba444d7-d771-4542-bc63-e59f523b5355');\n",
              "          const dataTable =\n",
              "            await google.colab.kernel.invokeFunction('convertToInteractive',\n",
              "                                                     [key], {});\n",
              "          if (!dataTable) return;\n",
              "\n",
              "          const docLinkHtml = 'Like what you see? Visit the ' +\n",
              "            '<a target=\"_blank\" href=https://colab.research.google.com/notebooks/data_table.ipynb>data table notebook</a>'\n",
              "            + ' to learn more about interactive tables.';\n",
              "          element.innerHTML = '';\n",
              "          dataTable['output_type'] = 'display_data';\n",
              "          await google.colab.output.renderOutput(dataTable, element);\n",
              "          const docLink = document.createElement('div');\n",
              "          docLink.innerHTML = docLinkHtml;\n",
              "          element.appendChild(docLink);\n",
              "        }\n",
              "      </script>\n",
              "    </div>\n",
              "  </div>\n",
              "  "
            ]
          },
          "metadata": {},
          "execution_count": 17
        }
      ]
    },
    {
      "cell_type": "code",
      "source": [
        "!pip install Sastrawi"
      ],
      "metadata": {
        "colab": {
          "base_uri": "https://localhost:8080/"
        },
        "id": "_F_MZnlHcjw5",
        "outputId": "d0c8fe60-ac1d-47ae-faea-baf388254633"
      },
      "execution_count": null,
      "outputs": [
        {
          "output_type": "stream",
          "name": "stdout",
          "text": [
            "Looking in indexes: https://pypi.org/simple, https://us-python.pkg.dev/colab-wheels/public/simple/\n",
            "Collecting Sastrawi\n",
            "  Downloading Sastrawi-1.0.1-py2.py3-none-any.whl (209 kB)\n",
            "\u001b[K     |████████████████████████████████| 209 kB 7.6 MB/s \n",
            "\u001b[?25hInstalling collected packages: Sastrawi\n",
            "Successfully installed Sastrawi-1.0.1\n"
          ]
        }
      ]
    },
    {
      "cell_type": "code",
      "source": [
        "from Sastrawi.StopWordRemover.StopWordRemoverFactory import StopWordRemoverFactory\n",
        "\n",
        "def stopSastra(text):\n",
        "  factory = StopWordRemoverFactory()\n",
        "  stopword = factory.create_stop_word_remover()\n",
        "  text = stopword.remove(text)\n",
        "  return text\n",
        "\n",
        "df['stopword'] = df['cleaned Review'].apply(stopSastra)"
      ],
      "metadata": {
        "colab": {
          "base_uri": "https://localhost:8080/"
        },
        "id": "wndGOX2wLZXp",
        "outputId": "1e6c9960-b5f6-428c-fe76-6bdc81a81c2d"
      },
      "execution_count": null,
      "outputs": [
        {
          "output_type": "stream",
          "name": "stderr",
          "text": [
            "<ipython-input-19-7b992cab5992>:9: SettingWithCopyWarning: \n",
            "A value is trying to be set on a copy of a slice from a DataFrame.\n",
            "Try using .loc[row_indexer,col_indexer] = value instead\n",
            "\n",
            "See the caveats in the documentation: https://pandas.pydata.org/pandas-docs/stable/user_guide/indexing.html#returning-a-view-versus-a-copy\n",
            "  df['stopword'] = df['cleaned Review'].apply(stopSastra)\n"
          ]
        }
      ]
    },
    {
      "cell_type": "code",
      "source": [
        "def stopword_rem(text):\n",
        "  stopword = ['tak', 'jd', 'per', 'nya', 'yg', 'dpt', 'sdh', 'ga','gak', 'tk', 'ttp', 'tp', 'apa', 'bhtcuma', 'cuma', 'ko', 'kok', 'kali', 'beberapa', 'bbrp', 'kapan']\n",
        "  text = text.split()\n",
        "  clean=[]\n",
        "  for t in text:\n",
        "    if t not in stopword:\n",
        "      clean.append(t)\n",
        "      text = clean\n",
        "  return text\n"
      ],
      "metadata": {
        "id": "Eho7HrIlWM2q"
      },
      "execution_count": null,
      "outputs": []
    },
    {
      "cell_type": "code",
      "source": [
        "df['stopword'] = df['stopword'].apply(stopword_rem)"
      ],
      "metadata": {
        "colab": {
          "base_uri": "https://localhost:8080/"
        },
        "id": "FuFKHVQ0L-I3",
        "outputId": "f28bb59c-b3b6-4a1c-b4c3-69c7d87def2a"
      },
      "execution_count": null,
      "outputs": [
        {
          "output_type": "stream",
          "name": "stderr",
          "text": [
            "<ipython-input-21-1f87811810a7>:1: SettingWithCopyWarning: \n",
            "A value is trying to be set on a copy of a slice from a DataFrame.\n",
            "Try using .loc[row_indexer,col_indexer] = value instead\n",
            "\n",
            "See the caveats in the documentation: https://pandas.pydata.org/pandas-docs/stable/user_guide/indexing.html#returning-a-view-versus-a-copy\n",
            "  df['stopword'] = df['stopword'].apply(stopword_rem)\n"
          ]
        }
      ]
    },
    {
      "cell_type": "code",
      "source": [
        "df"
      ],
      "metadata": {
        "colab": {
          "base_uri": "https://localhost:8080/",
          "height": 607
        },
        "id": "g5YlBb5lYSKg",
        "outputId": "629485be-63cf-475b-ab2b-6804a89387e2"
      },
      "execution_count": null,
      "outputs": [
        {
          "output_type": "execute_result",
          "data": {
            "text/plain": [
              "                                                Review  \\\n",
              "0    akses jalan luas dan mudah, bisa mobil dan mot...   \n",
              "1    recomended buat liburan bersama keluarga.. tem...   \n",
              "2    sudah beberapa kali datang kesini, tempat wisa...   \n",
              "3    hutan pinus milik perhutani yang difungsikan u...   \n",
              "4    sebenarnya tempatnya oke bht,cuma ko apa2 baya...   \n",
              "..                                                 ...   \n",
              "160  (diterjemahkan oleh google) menarik keren dan ...   \n",
              "161  (diterjemahkan oleh google) ademmm ...  (asli)...   \n",
              "162  (diterjemahkan oleh google) cantik untuk berke...   \n",
              "163  (diterjemahkan oleh google) dicampuradukkan  (...   \n",
              "164      (diterjemahkan oleh google) baik  (asli) good   \n",
              "\n",
              "                                        cleaned Review  \\\n",
              "0     akses jalan luas dan mudah bisa mobil dan mot...   \n",
              "1     recomended buat liburan bersama keluarga temp...   \n",
              "2     sudah beberapa kali datang kesini tempat wisa...   \n",
              "3     hutan pinus milik perhutani yang difungsikan ...   \n",
              "4     sebenarnya tempatnya oke bhtcuma ko apa bayar...   \n",
              "..                                                 ...   \n",
              "160   menarik keren dan cantik asli menarik sejuk d...   \n",
              "161                                     adem asli adem   \n",
              "162      cantik untuk berkemah asli cantik for camping   \n",
              "163                         dicampuradukkan asli segar   \n",
              "164                                    baik asli bagus   \n",
              "\n",
              "                                              tokenize  \\\n",
              "0    [akses, jalan, luas, dan, mudah, bisa, mobil, ...   \n",
              "1    [recomended, buat, liburan, bersama, keluarga,...   \n",
              "2    [sudah, beberapa, kali, datang, kesini, tempat...   \n",
              "3    [hutan, pinus, milik, perhutani, yang, difungs...   \n",
              "4    [sebenarnya, tempatnya, oke, bhtcuma, ko, apa,...   \n",
              "..                                                 ...   \n",
              "160  [menarik, keren, dan, cantik, asli, menarik, s...   \n",
              "161                                 [adem, asli, adem]   \n",
              "162  [cantik, untuk, berkemah, asli, cantik, for, c...   \n",
              "163                     [dicampuradukkan, asli, segar]   \n",
              "164                                [baik, asli, bagus]   \n",
              "\n",
              "                                              stopword  \n",
              "0    [akses, jalan, luas, mudah, mobil, motor, tike...  \n",
              "1    [recomended, buat, liburan, bersama, keluarga,...  \n",
              "2    [datang, kesini, tempat, wisata, sangat, nyama...  \n",
              "3    [hutan, pinus, milik, perhutani, difungsikan, ...  \n",
              "4    [sebenarnya, tempatnya, oke, bayar, simasuk, k...  \n",
              "..                                                 ...  \n",
              "160  [menarik, keren, cantik, asli, menarik, sejuk,...  \n",
              "161                                 [adem, asli, adem]  \n",
              "162     [cantik, berkemah, asli, cantik, for, camping]  \n",
              "163                     [dicampuradukkan, asli, segar]  \n",
              "164                                [baik, asli, bagus]  \n",
              "\n",
              "[165 rows x 4 columns]"
            ],
            "text/html": [
              "\n",
              "  <div id=\"df-4e550df1-79a8-4259-8b04-a90b5e3ee1b0\">\n",
              "    <div class=\"colab-df-container\">\n",
              "      <div>\n",
              "<style scoped>\n",
              "    .dataframe tbody tr th:only-of-type {\n",
              "        vertical-align: middle;\n",
              "    }\n",
              "\n",
              "    .dataframe tbody tr th {\n",
              "        vertical-align: top;\n",
              "    }\n",
              "\n",
              "    .dataframe thead th {\n",
              "        text-align: right;\n",
              "    }\n",
              "</style>\n",
              "<table border=\"1\" class=\"dataframe\">\n",
              "  <thead>\n",
              "    <tr style=\"text-align: right;\">\n",
              "      <th></th>\n",
              "      <th>Review</th>\n",
              "      <th>cleaned Review</th>\n",
              "      <th>tokenize</th>\n",
              "      <th>stopword</th>\n",
              "    </tr>\n",
              "  </thead>\n",
              "  <tbody>\n",
              "    <tr>\n",
              "      <th>0</th>\n",
              "      <td>akses jalan luas dan mudah, bisa mobil dan mot...</td>\n",
              "      <td>akses jalan luas dan mudah bisa mobil dan mot...</td>\n",
              "      <td>[akses, jalan, luas, dan, mudah, bisa, mobil, ...</td>\n",
              "      <td>[akses, jalan, luas, mudah, mobil, motor, tike...</td>\n",
              "    </tr>\n",
              "    <tr>\n",
              "      <th>1</th>\n",
              "      <td>recomended buat liburan bersama keluarga.. tem...</td>\n",
              "      <td>recomended buat liburan bersama keluarga temp...</td>\n",
              "      <td>[recomended, buat, liburan, bersama, keluarga,...</td>\n",
              "      <td>[recomended, buat, liburan, bersama, keluarga,...</td>\n",
              "    </tr>\n",
              "    <tr>\n",
              "      <th>2</th>\n",
              "      <td>sudah beberapa kali datang kesini, tempat wisa...</td>\n",
              "      <td>sudah beberapa kali datang kesini tempat wisa...</td>\n",
              "      <td>[sudah, beberapa, kali, datang, kesini, tempat...</td>\n",
              "      <td>[datang, kesini, tempat, wisata, sangat, nyama...</td>\n",
              "    </tr>\n",
              "    <tr>\n",
              "      <th>3</th>\n",
              "      <td>hutan pinus milik perhutani yang difungsikan u...</td>\n",
              "      <td>hutan pinus milik perhutani yang difungsikan ...</td>\n",
              "      <td>[hutan, pinus, milik, perhutani, yang, difungs...</td>\n",
              "      <td>[hutan, pinus, milik, perhutani, difungsikan, ...</td>\n",
              "    </tr>\n",
              "    <tr>\n",
              "      <th>4</th>\n",
              "      <td>sebenarnya tempatnya oke bht,cuma ko apa2 baya...</td>\n",
              "      <td>sebenarnya tempatnya oke bhtcuma ko apa bayar...</td>\n",
              "      <td>[sebenarnya, tempatnya, oke, bhtcuma, ko, apa,...</td>\n",
              "      <td>[sebenarnya, tempatnya, oke, bayar, simasuk, k...</td>\n",
              "    </tr>\n",
              "    <tr>\n",
              "      <th>...</th>\n",
              "      <td>...</td>\n",
              "      <td>...</td>\n",
              "      <td>...</td>\n",
              "      <td>...</td>\n",
              "    </tr>\n",
              "    <tr>\n",
              "      <th>160</th>\n",
              "      <td>(diterjemahkan oleh google) menarik keren dan ...</td>\n",
              "      <td>menarik keren dan cantik asli menarik sejuk d...</td>\n",
              "      <td>[menarik, keren, dan, cantik, asli, menarik, s...</td>\n",
              "      <td>[menarik, keren, cantik, asli, menarik, sejuk,...</td>\n",
              "    </tr>\n",
              "    <tr>\n",
              "      <th>161</th>\n",
              "      <td>(diterjemahkan oleh google) ademmm ...  (asli)...</td>\n",
              "      <td>adem asli adem</td>\n",
              "      <td>[adem, asli, adem]</td>\n",
              "      <td>[adem, asli, adem]</td>\n",
              "    </tr>\n",
              "    <tr>\n",
              "      <th>162</th>\n",
              "      <td>(diterjemahkan oleh google) cantik untuk berke...</td>\n",
              "      <td>cantik untuk berkemah asli cantik for camping</td>\n",
              "      <td>[cantik, untuk, berkemah, asli, cantik, for, c...</td>\n",
              "      <td>[cantik, berkemah, asli, cantik, for, camping]</td>\n",
              "    </tr>\n",
              "    <tr>\n",
              "      <th>163</th>\n",
              "      <td>(diterjemahkan oleh google) dicampuradukkan  (...</td>\n",
              "      <td>dicampuradukkan asli segar</td>\n",
              "      <td>[dicampuradukkan, asli, segar]</td>\n",
              "      <td>[dicampuradukkan, asli, segar]</td>\n",
              "    </tr>\n",
              "    <tr>\n",
              "      <th>164</th>\n",
              "      <td>(diterjemahkan oleh google) baik  (asli) good</td>\n",
              "      <td>baik asli bagus</td>\n",
              "      <td>[baik, asli, bagus]</td>\n",
              "      <td>[baik, asli, bagus]</td>\n",
              "    </tr>\n",
              "  </tbody>\n",
              "</table>\n",
              "<p>165 rows × 4 columns</p>\n",
              "</div>\n",
              "      <button class=\"colab-df-convert\" onclick=\"convertToInteractive('df-4e550df1-79a8-4259-8b04-a90b5e3ee1b0')\"\n",
              "              title=\"Convert this dataframe to an interactive table.\"\n",
              "              style=\"display:none;\">\n",
              "        \n",
              "  <svg xmlns=\"http://www.w3.org/2000/svg\" height=\"24px\"viewBox=\"0 0 24 24\"\n",
              "       width=\"24px\">\n",
              "    <path d=\"M0 0h24v24H0V0z\" fill=\"none\"/>\n",
              "    <path d=\"M18.56 5.44l.94 2.06.94-2.06 2.06-.94-2.06-.94-.94-2.06-.94 2.06-2.06.94zm-11 1L8.5 8.5l.94-2.06 2.06-.94-2.06-.94L8.5 2.5l-.94 2.06-2.06.94zm10 10l.94 2.06.94-2.06 2.06-.94-2.06-.94-.94-2.06-.94 2.06-2.06.94z\"/><path d=\"M17.41 7.96l-1.37-1.37c-.4-.4-.92-.59-1.43-.59-.52 0-1.04.2-1.43.59L10.3 9.45l-7.72 7.72c-.78.78-.78 2.05 0 2.83L4 21.41c.39.39.9.59 1.41.59.51 0 1.02-.2 1.41-.59l7.78-7.78 2.81-2.81c.8-.78.8-2.07 0-2.86zM5.41 20L4 18.59l7.72-7.72 1.47 1.35L5.41 20z\"/>\n",
              "  </svg>\n",
              "      </button>\n",
              "      \n",
              "  <style>\n",
              "    .colab-df-container {\n",
              "      display:flex;\n",
              "      flex-wrap:wrap;\n",
              "      gap: 12px;\n",
              "    }\n",
              "\n",
              "    .colab-df-convert {\n",
              "      background-color: #E8F0FE;\n",
              "      border: none;\n",
              "      border-radius: 50%;\n",
              "      cursor: pointer;\n",
              "      display: none;\n",
              "      fill: #1967D2;\n",
              "      height: 32px;\n",
              "      padding: 0 0 0 0;\n",
              "      width: 32px;\n",
              "    }\n",
              "\n",
              "    .colab-df-convert:hover {\n",
              "      background-color: #E2EBFA;\n",
              "      box-shadow: 0px 1px 2px rgba(60, 64, 67, 0.3), 0px 1px 3px 1px rgba(60, 64, 67, 0.15);\n",
              "      fill: #174EA6;\n",
              "    }\n",
              "\n",
              "    [theme=dark] .colab-df-convert {\n",
              "      background-color: #3B4455;\n",
              "      fill: #D2E3FC;\n",
              "    }\n",
              "\n",
              "    [theme=dark] .colab-df-convert:hover {\n",
              "      background-color: #434B5C;\n",
              "      box-shadow: 0px 1px 3px 1px rgba(0, 0, 0, 0.15);\n",
              "      filter: drop-shadow(0px 1px 2px rgba(0, 0, 0, 0.3));\n",
              "      fill: #FFFFFF;\n",
              "    }\n",
              "  </style>\n",
              "\n",
              "      <script>\n",
              "        const buttonEl =\n",
              "          document.querySelector('#df-4e550df1-79a8-4259-8b04-a90b5e3ee1b0 button.colab-df-convert');\n",
              "        buttonEl.style.display =\n",
              "          google.colab.kernel.accessAllowed ? 'block' : 'none';\n",
              "\n",
              "        async function convertToInteractive(key) {\n",
              "          const element = document.querySelector('#df-4e550df1-79a8-4259-8b04-a90b5e3ee1b0');\n",
              "          const dataTable =\n",
              "            await google.colab.kernel.invokeFunction('convertToInteractive',\n",
              "                                                     [key], {});\n",
              "          if (!dataTable) return;\n",
              "\n",
              "          const docLinkHtml = 'Like what you see? Visit the ' +\n",
              "            '<a target=\"_blank\" href=https://colab.research.google.com/notebooks/data_table.ipynb>data table notebook</a>'\n",
              "            + ' to learn more about interactive tables.';\n",
              "          element.innerHTML = '';\n",
              "          dataTable['output_type'] = 'display_data';\n",
              "          await google.colab.output.renderOutput(dataTable, element);\n",
              "          const docLink = document.createElement('div');\n",
              "          docLink.innerHTML = docLinkHtml;\n",
              "          element.appendChild(docLink);\n",
              "        }\n",
              "      </script>\n",
              "    </div>\n",
              "  </div>\n",
              "  "
            ]
          },
          "metadata": {},
          "execution_count": 22
        }
      ]
    },
    {
      "cell_type": "code",
      "source": [
        "def toSentence(list_words):\n",
        "    sentence = ' '.join(word for word in list_words)\n",
        "    return sentence\n",
        "\n",
        "\n",
        "df['stopword'] = df['stopword'].apply(toSentence)"
      ],
      "metadata": {
        "colab": {
          "base_uri": "https://localhost:8080/"
        },
        "id": "YWiOOQitYH4W",
        "outputId": "676e28ec-5a04-4e81-b1ba-5ba777ee13f3"
      },
      "execution_count": null,
      "outputs": [
        {
          "output_type": "stream",
          "name": "stderr",
          "text": [
            "<ipython-input-23-48a9295b19db>:6: SettingWithCopyWarning: \n",
            "A value is trying to be set on a copy of a slice from a DataFrame.\n",
            "Try using .loc[row_indexer,col_indexer] = value instead\n",
            "\n",
            "See the caveats in the documentation: https://pandas.pydata.org/pandas-docs/stable/user_guide/indexing.html#returning-a-view-versus-a-copy\n",
            "  df['stopword'] = df['stopword'].apply(toSentence)\n"
          ]
        }
      ]
    },
    {
      "cell_type": "code",
      "source": [
        "from Sastrawi.Stemmer.StemmerFactory import StemmerFactory\n",
        "\n",
        "def stem(text):\n",
        "  stemmer = StemmerFactory().create_stemmer()\n",
        "  hasil = []\n",
        "  for i in text:\n",
        "    txt = stemmer.stem(i)\n",
        "    hasil.append(txt)\n",
        "    text = hasil\n",
        "  return text\n",
        "\n",
        "df['stemming'] = df['stopword'].apply(stem)\n"
      ],
      "metadata": {
        "colab": {
          "base_uri": "https://localhost:8080/"
        },
        "id": "nX2UIPdtMag-",
        "outputId": "3323c790-4fb8-4f08-a055-aa94532b9755"
      },
      "execution_count": null,
      "outputs": [
        {
          "output_type": "stream",
          "name": "stderr",
          "text": [
            "<ipython-input-24-2525bc8d88e2>:11: SettingWithCopyWarning: \n",
            "A value is trying to be set on a copy of a slice from a DataFrame.\n",
            "Try using .loc[row_indexer,col_indexer] = value instead\n",
            "\n",
            "See the caveats in the documentation: https://pandas.pydata.org/pandas-docs/stable/user_guide/indexing.html#returning-a-view-versus-a-copy\n",
            "  df['stemming'] = df['stopword'].apply(stem)\n"
          ]
        }
      ]
    },
    {
      "cell_type": "code",
      "source": [
        "df.to_excel('PREPROCESS_Review Limpakuwus_Muhammad Abdul Latief.xlsx')"
      ],
      "metadata": {
        "id": "ucu2mXs4M-i5"
      },
      "execution_count": null,
      "outputs": []
    },
    {
      "cell_type": "code",
      "source": [
        "data = pd.read_excel('/content/drive/MyDrive/NLP_praktikum/Sentiment Analysis/NRC.xlsx', sheet_name='dict')"
      ],
      "metadata": {
        "id": "yKbkWwo-N3fn"
      },
      "execution_count": null,
      "outputs": []
    },
    {
      "cell_type": "code",
      "source": [
        "data"
      ],
      "metadata": {
        "colab": {
          "base_uri": "https://localhost:8080/",
          "height": 574
        },
        "id": "BAxgq1BXZYSc",
        "outputId": "51b6349f-b08e-42de-9202-44065a284f68"
      },
      "execution_count": null,
      "outputs": [
        {
          "output_type": "execute_result",
          "data": {
            "text/plain": [
              "      English (en) Indonesian (id) Javanese (jw)    Malay (ms)  \\\n",
              "0            aback         kembali         aback          abak   \n",
              "1           abacus          sempoa        abacus        abacus   \n",
              "2          abandon     mengabaikan   nglirwaaken       abaikan   \n",
              "3        abandoned    ditinggalkan     ditinggal  ditinggalkan   \n",
              "4      abandonment    ditinggalkan   abandonment  ditinggalkan   \n",
              "...            ...             ...           ...           ...   \n",
              "14188         zone          daerah          zona       Kawasan   \n",
              "14189          zoo  kebun binatang           zoo           zoo   \n",
              "14190   zoological       kehewanan    zoological       zoologi   \n",
              "14191      zoology      ilmu hewan       zoologi       zoologi   \n",
              "14192         zoom            zoom          zoom           zum   \n",
              "\n",
              "       Sundanese (su) Tagalog (Filipino) (tl)  Positive  Negative  Anger  \\\n",
              "0               aback                   aback         0         0      0   \n",
              "1              abacus                   abako         0         0      0   \n",
              "2         ninggalkeun             abandunahin         0         1      0   \n",
              "3       ditinggalkeun            inabandunang         0         1      1   \n",
              "4         abandonment            pag-abanduna         0         1      1   \n",
              "...               ...                     ...       ...       ...    ...   \n",
              "14188       wewengkon                    zone         0         0      0   \n",
              "14189  kebon sasatoan                     zoo         0         0      0   \n",
              "14190      Zoological              zoological         0         0      0   \n",
              "14191   elmu sasatoan                 zoology         0         0      0   \n",
              "14192             zum                mag-zoom         0         0      0   \n",
              "\n",
              "       Anticipation  Disgust  Fear  Joy  Sadness  Surprise  Trust  \n",
              "0                 0        0     0    0        0         0      0  \n",
              "1                 0        0     0    0        0         0      1  \n",
              "2                 0        0     1    0        1         0      0  \n",
              "3                 0        0     1    0        1         0      0  \n",
              "4                 0        0     1    0        1         1      0  \n",
              "...             ...      ...   ...  ...      ...       ...    ...  \n",
              "14188             0        0     0    0        0         0      0  \n",
              "14189             0        0     0    0        0         0      0  \n",
              "14190             0        0     0    0        0         0      0  \n",
              "14191             0        0     0    0        0         0      0  \n",
              "14192             0        0     0    0        0         0      0  \n",
              "\n",
              "[14193 rows x 16 columns]"
            ],
            "text/html": [
              "\n",
              "  <div id=\"df-a7ccac16-7703-425f-be54-a2e5af1c1b1c\">\n",
              "    <div class=\"colab-df-container\">\n",
              "      <div>\n",
              "<style scoped>\n",
              "    .dataframe tbody tr th:only-of-type {\n",
              "        vertical-align: middle;\n",
              "    }\n",
              "\n",
              "    .dataframe tbody tr th {\n",
              "        vertical-align: top;\n",
              "    }\n",
              "\n",
              "    .dataframe thead th {\n",
              "        text-align: right;\n",
              "    }\n",
              "</style>\n",
              "<table border=\"1\" class=\"dataframe\">\n",
              "  <thead>\n",
              "    <tr style=\"text-align: right;\">\n",
              "      <th></th>\n",
              "      <th>English (en)</th>\n",
              "      <th>Indonesian (id)</th>\n",
              "      <th>Javanese (jw)</th>\n",
              "      <th>Malay (ms)</th>\n",
              "      <th>Sundanese (su)</th>\n",
              "      <th>Tagalog (Filipino) (tl)</th>\n",
              "      <th>Positive</th>\n",
              "      <th>Negative</th>\n",
              "      <th>Anger</th>\n",
              "      <th>Anticipation</th>\n",
              "      <th>Disgust</th>\n",
              "      <th>Fear</th>\n",
              "      <th>Joy</th>\n",
              "      <th>Sadness</th>\n",
              "      <th>Surprise</th>\n",
              "      <th>Trust</th>\n",
              "    </tr>\n",
              "  </thead>\n",
              "  <tbody>\n",
              "    <tr>\n",
              "      <th>0</th>\n",
              "      <td>aback</td>\n",
              "      <td>kembali</td>\n",
              "      <td>aback</td>\n",
              "      <td>abak</td>\n",
              "      <td>aback</td>\n",
              "      <td>aback</td>\n",
              "      <td>0</td>\n",
              "      <td>0</td>\n",
              "      <td>0</td>\n",
              "      <td>0</td>\n",
              "      <td>0</td>\n",
              "      <td>0</td>\n",
              "      <td>0</td>\n",
              "      <td>0</td>\n",
              "      <td>0</td>\n",
              "      <td>0</td>\n",
              "    </tr>\n",
              "    <tr>\n",
              "      <th>1</th>\n",
              "      <td>abacus</td>\n",
              "      <td>sempoa</td>\n",
              "      <td>abacus</td>\n",
              "      <td>abacus</td>\n",
              "      <td>abacus</td>\n",
              "      <td>abako</td>\n",
              "      <td>0</td>\n",
              "      <td>0</td>\n",
              "      <td>0</td>\n",
              "      <td>0</td>\n",
              "      <td>0</td>\n",
              "      <td>0</td>\n",
              "      <td>0</td>\n",
              "      <td>0</td>\n",
              "      <td>0</td>\n",
              "      <td>1</td>\n",
              "    </tr>\n",
              "    <tr>\n",
              "      <th>2</th>\n",
              "      <td>abandon</td>\n",
              "      <td>mengabaikan</td>\n",
              "      <td>nglirwaaken</td>\n",
              "      <td>abaikan</td>\n",
              "      <td>ninggalkeun</td>\n",
              "      <td>abandunahin</td>\n",
              "      <td>0</td>\n",
              "      <td>1</td>\n",
              "      <td>0</td>\n",
              "      <td>0</td>\n",
              "      <td>0</td>\n",
              "      <td>1</td>\n",
              "      <td>0</td>\n",
              "      <td>1</td>\n",
              "      <td>0</td>\n",
              "      <td>0</td>\n",
              "    </tr>\n",
              "    <tr>\n",
              "      <th>3</th>\n",
              "      <td>abandoned</td>\n",
              "      <td>ditinggalkan</td>\n",
              "      <td>ditinggal</td>\n",
              "      <td>ditinggalkan</td>\n",
              "      <td>ditinggalkeun</td>\n",
              "      <td>inabandunang</td>\n",
              "      <td>0</td>\n",
              "      <td>1</td>\n",
              "      <td>1</td>\n",
              "      <td>0</td>\n",
              "      <td>0</td>\n",
              "      <td>1</td>\n",
              "      <td>0</td>\n",
              "      <td>1</td>\n",
              "      <td>0</td>\n",
              "      <td>0</td>\n",
              "    </tr>\n",
              "    <tr>\n",
              "      <th>4</th>\n",
              "      <td>abandonment</td>\n",
              "      <td>ditinggalkan</td>\n",
              "      <td>abandonment</td>\n",
              "      <td>ditinggalkan</td>\n",
              "      <td>abandonment</td>\n",
              "      <td>pag-abanduna</td>\n",
              "      <td>0</td>\n",
              "      <td>1</td>\n",
              "      <td>1</td>\n",
              "      <td>0</td>\n",
              "      <td>0</td>\n",
              "      <td>1</td>\n",
              "      <td>0</td>\n",
              "      <td>1</td>\n",
              "      <td>1</td>\n",
              "      <td>0</td>\n",
              "    </tr>\n",
              "    <tr>\n",
              "      <th>...</th>\n",
              "      <td>...</td>\n",
              "      <td>...</td>\n",
              "      <td>...</td>\n",
              "      <td>...</td>\n",
              "      <td>...</td>\n",
              "      <td>...</td>\n",
              "      <td>...</td>\n",
              "      <td>...</td>\n",
              "      <td>...</td>\n",
              "      <td>...</td>\n",
              "      <td>...</td>\n",
              "      <td>...</td>\n",
              "      <td>...</td>\n",
              "      <td>...</td>\n",
              "      <td>...</td>\n",
              "      <td>...</td>\n",
              "    </tr>\n",
              "    <tr>\n",
              "      <th>14188</th>\n",
              "      <td>zone</td>\n",
              "      <td>daerah</td>\n",
              "      <td>zona</td>\n",
              "      <td>Kawasan</td>\n",
              "      <td>wewengkon</td>\n",
              "      <td>zone</td>\n",
              "      <td>0</td>\n",
              "      <td>0</td>\n",
              "      <td>0</td>\n",
              "      <td>0</td>\n",
              "      <td>0</td>\n",
              "      <td>0</td>\n",
              "      <td>0</td>\n",
              "      <td>0</td>\n",
              "      <td>0</td>\n",
              "      <td>0</td>\n",
              "    </tr>\n",
              "    <tr>\n",
              "      <th>14189</th>\n",
              "      <td>zoo</td>\n",
              "      <td>kebun binatang</td>\n",
              "      <td>zoo</td>\n",
              "      <td>zoo</td>\n",
              "      <td>kebon sasatoan</td>\n",
              "      <td>zoo</td>\n",
              "      <td>0</td>\n",
              "      <td>0</td>\n",
              "      <td>0</td>\n",
              "      <td>0</td>\n",
              "      <td>0</td>\n",
              "      <td>0</td>\n",
              "      <td>0</td>\n",
              "      <td>0</td>\n",
              "      <td>0</td>\n",
              "      <td>0</td>\n",
              "    </tr>\n",
              "    <tr>\n",
              "      <th>14190</th>\n",
              "      <td>zoological</td>\n",
              "      <td>kehewanan</td>\n",
              "      <td>zoological</td>\n",
              "      <td>zoologi</td>\n",
              "      <td>Zoological</td>\n",
              "      <td>zoological</td>\n",
              "      <td>0</td>\n",
              "      <td>0</td>\n",
              "      <td>0</td>\n",
              "      <td>0</td>\n",
              "      <td>0</td>\n",
              "      <td>0</td>\n",
              "      <td>0</td>\n",
              "      <td>0</td>\n",
              "      <td>0</td>\n",
              "      <td>0</td>\n",
              "    </tr>\n",
              "    <tr>\n",
              "      <th>14191</th>\n",
              "      <td>zoology</td>\n",
              "      <td>ilmu hewan</td>\n",
              "      <td>zoologi</td>\n",
              "      <td>zoologi</td>\n",
              "      <td>elmu sasatoan</td>\n",
              "      <td>zoology</td>\n",
              "      <td>0</td>\n",
              "      <td>0</td>\n",
              "      <td>0</td>\n",
              "      <td>0</td>\n",
              "      <td>0</td>\n",
              "      <td>0</td>\n",
              "      <td>0</td>\n",
              "      <td>0</td>\n",
              "      <td>0</td>\n",
              "      <td>0</td>\n",
              "    </tr>\n",
              "    <tr>\n",
              "      <th>14192</th>\n",
              "      <td>zoom</td>\n",
              "      <td>zoom</td>\n",
              "      <td>zoom</td>\n",
              "      <td>zum</td>\n",
              "      <td>zum</td>\n",
              "      <td>mag-zoom</td>\n",
              "      <td>0</td>\n",
              "      <td>0</td>\n",
              "      <td>0</td>\n",
              "      <td>0</td>\n",
              "      <td>0</td>\n",
              "      <td>0</td>\n",
              "      <td>0</td>\n",
              "      <td>0</td>\n",
              "      <td>0</td>\n",
              "      <td>0</td>\n",
              "    </tr>\n",
              "  </tbody>\n",
              "</table>\n",
              "<p>14193 rows × 16 columns</p>\n",
              "</div>\n",
              "      <button class=\"colab-df-convert\" onclick=\"convertToInteractive('df-a7ccac16-7703-425f-be54-a2e5af1c1b1c')\"\n",
              "              title=\"Convert this dataframe to an interactive table.\"\n",
              "              style=\"display:none;\">\n",
              "        \n",
              "  <svg xmlns=\"http://www.w3.org/2000/svg\" height=\"24px\"viewBox=\"0 0 24 24\"\n",
              "       width=\"24px\">\n",
              "    <path d=\"M0 0h24v24H0V0z\" fill=\"none\"/>\n",
              "    <path d=\"M18.56 5.44l.94 2.06.94-2.06 2.06-.94-2.06-.94-.94-2.06-.94 2.06-2.06.94zm-11 1L8.5 8.5l.94-2.06 2.06-.94-2.06-.94L8.5 2.5l-.94 2.06-2.06.94zm10 10l.94 2.06.94-2.06 2.06-.94-2.06-.94-.94-2.06-.94 2.06-2.06.94z\"/><path d=\"M17.41 7.96l-1.37-1.37c-.4-.4-.92-.59-1.43-.59-.52 0-1.04.2-1.43.59L10.3 9.45l-7.72 7.72c-.78.78-.78 2.05 0 2.83L4 21.41c.39.39.9.59 1.41.59.51 0 1.02-.2 1.41-.59l7.78-7.78 2.81-2.81c.8-.78.8-2.07 0-2.86zM5.41 20L4 18.59l7.72-7.72 1.47 1.35L5.41 20z\"/>\n",
              "  </svg>\n",
              "      </button>\n",
              "      \n",
              "  <style>\n",
              "    .colab-df-container {\n",
              "      display:flex;\n",
              "      flex-wrap:wrap;\n",
              "      gap: 12px;\n",
              "    }\n",
              "\n",
              "    .colab-df-convert {\n",
              "      background-color: #E8F0FE;\n",
              "      border: none;\n",
              "      border-radius: 50%;\n",
              "      cursor: pointer;\n",
              "      display: none;\n",
              "      fill: #1967D2;\n",
              "      height: 32px;\n",
              "      padding: 0 0 0 0;\n",
              "      width: 32px;\n",
              "    }\n",
              "\n",
              "    .colab-df-convert:hover {\n",
              "      background-color: #E2EBFA;\n",
              "      box-shadow: 0px 1px 2px rgba(60, 64, 67, 0.3), 0px 1px 3px 1px rgba(60, 64, 67, 0.15);\n",
              "      fill: #174EA6;\n",
              "    }\n",
              "\n",
              "    [theme=dark] .colab-df-convert {\n",
              "      background-color: #3B4455;\n",
              "      fill: #D2E3FC;\n",
              "    }\n",
              "\n",
              "    [theme=dark] .colab-df-convert:hover {\n",
              "      background-color: #434B5C;\n",
              "      box-shadow: 0px 1px 3px 1px rgba(0, 0, 0, 0.15);\n",
              "      filter: drop-shadow(0px 1px 2px rgba(0, 0, 0, 0.3));\n",
              "      fill: #FFFFFF;\n",
              "    }\n",
              "  </style>\n",
              "\n",
              "      <script>\n",
              "        const buttonEl =\n",
              "          document.querySelector('#df-a7ccac16-7703-425f-be54-a2e5af1c1b1c button.colab-df-convert');\n",
              "        buttonEl.style.display =\n",
              "          google.colab.kernel.accessAllowed ? 'block' : 'none';\n",
              "\n",
              "        async function convertToInteractive(key) {\n",
              "          const element = document.querySelector('#df-a7ccac16-7703-425f-be54-a2e5af1c1b1c');\n",
              "          const dataTable =\n",
              "            await google.colab.kernel.invokeFunction('convertToInteractive',\n",
              "                                                     [key], {});\n",
              "          if (!dataTable) return;\n",
              "\n",
              "          const docLinkHtml = 'Like what you see? Visit the ' +\n",
              "            '<a target=\"_blank\" href=https://colab.research.google.com/notebooks/data_table.ipynb>data table notebook</a>'\n",
              "            + ' to learn more about interactive tables.';\n",
              "          element.innerHTML = '';\n",
              "          dataTable['output_type'] = 'display_data';\n",
              "          await google.colab.output.renderOutput(dataTable, element);\n",
              "          const docLink = document.createElement('div');\n",
              "          docLink.innerHTML = docLinkHtml;\n",
              "          element.appendChild(docLink);\n",
              "        }\n",
              "      </script>\n",
              "    </div>\n",
              "  </div>\n",
              "  "
            ]
          },
          "metadata": {},
          "execution_count": 27
        }
      ]
    },
    {
      "cell_type": "code",
      "source": [
        "#Load NRC to memory\n",
        "positive=[]\n",
        "negative=[]\n",
        "#teksbaru=''\n",
        "for i in range(1,len(data)):\n",
        " kata=data.iloc[i,1]\n",
        " #print(kata)\n",
        " if (data.iloc[i,6])==1:\n",
        "  positive.append(kata)\n",
        " if (data.iloc[i,7])==1:\n",
        "  negative.append(kata)"
      ],
      "metadata": {
        "id": "qr_RT1k5Yrx9"
      },
      "execution_count": null,
      "outputs": []
    },
    {
      "cell_type": "code",
      "source": [
        "review = df['stemming']\n",
        "\n",
        "data_sentiment = []\n",
        "\n",
        "for u in review:\n",
        "  baris = []\n",
        "  baris.append(u)\n",
        "\n",
        "  sent_positif = 0\n",
        "  sent_negatif = 0\n",
        "  me = u\n",
        "  for yu in me.split():\n",
        "    for l in range(0, len(positive)-1):\n",
        "      if yu == positive[l]:\n",
        "        sent_positif+=1\n",
        "    for l in range(0, len(negative)-1):\n",
        "      if yu == negative[l]:\n",
        "        sent_negatif+=1\n",
        "\n",
        "  sentiment = sent_positif - sent_negatif\n",
        "  has_sentPositif = 0\n",
        "  has_sentNegatif = 0\n",
        "  has_sentNetral = 0\n",
        "\n",
        "  if sentiment == 0:\n",
        "    has_sentNetral = 0\n",
        "  else:\n",
        "    if sentiment > 0:\n",
        "      has_sentPositif = 1\n",
        "    else:\n",
        "      has_sentNegatif = -1\n",
        "\n",
        "  baris.append(has_sentPositif)\n",
        "  baris.append(has_sentNegatif)\n",
        "  baris.append(has_sentNetral)\n",
        "  data_sentiment.append(baris)"
      ],
      "metadata": {
        "id": "jvMpczEmZSY8"
      },
      "execution_count": null,
      "outputs": []
    },
    {
      "cell_type": "code",
      "source": [
        "sent_analisis = pd.DataFrame(data_sentiment, columns=['Review', 'Positif', 'Negatif', 'Netral'])"
      ],
      "metadata": {
        "id": "4Cx9wYhjZdw7"
      },
      "execution_count": null,
      "outputs": []
    },
    {
      "cell_type": "code",
      "source": [
        "sent_analisis.to_excel('Hasil Sentiment_Review Limpakuwus_Muhammad Abdul Latief.xlsx')"
      ],
      "metadata": {
        "id": "vSy_DdVRLU1p"
      },
      "execution_count": null,
      "outputs": []
    },
    {
      "cell_type": "code",
      "source": [
        "sent_analisis"
      ],
      "metadata": {
        "colab": {
          "base_uri": "https://localhost:8080/",
          "height": 424
        },
        "id": "mJZbEhd1fE5z",
        "outputId": "f719dd0b-9411-4cd4-a209-c5c5b2aef2cd"
      },
      "execution_count": null,
      "outputs": [
        {
          "output_type": "execute_result",
          "data": {
            "text/plain": [
              "                                                Review  Positif  Negatif  \\\n",
              "0    akses jalan luas mudah mobil motor tiket masuk...        1        0   \n",
              "1    recomended buat liburan bersama keluarga tempa...        1        0   \n",
              "2    datang kesini tempat wisata sangat nyamansejuk...        1        0   \n",
              "3    hutan pinus milik perhutani difungsikan wisata...        1        0   \n",
              "4    sebenarnya tempatnya oke bayar simasuk kesini ...        1        0   \n",
              "..                                                 ...      ...      ...   \n",
              "160      menarik keren cantik asli menarik sejuk indah        1        0   \n",
              "161                                     adem asli adem        1        0   \n",
              "162            cantik berkemah asli cantik for camping        1        0   \n",
              "163                         dicampuradukkan asli segar        1        0   \n",
              "164                                    baik asli bagus        1        0   \n",
              "\n",
              "     Netral  \n",
              "0         0  \n",
              "1         0  \n",
              "2         0  \n",
              "3         0  \n",
              "4         0  \n",
              "..      ...  \n",
              "160       0  \n",
              "161       0  \n",
              "162       0  \n",
              "163       0  \n",
              "164       0  \n",
              "\n",
              "[165 rows x 4 columns]"
            ],
            "text/html": [
              "\n",
              "  <div id=\"df-7c9e90c4-32b8-472d-b79a-05466a6ba4d2\">\n",
              "    <div class=\"colab-df-container\">\n",
              "      <div>\n",
              "<style scoped>\n",
              "    .dataframe tbody tr th:only-of-type {\n",
              "        vertical-align: middle;\n",
              "    }\n",
              "\n",
              "    .dataframe tbody tr th {\n",
              "        vertical-align: top;\n",
              "    }\n",
              "\n",
              "    .dataframe thead th {\n",
              "        text-align: right;\n",
              "    }\n",
              "</style>\n",
              "<table border=\"1\" class=\"dataframe\">\n",
              "  <thead>\n",
              "    <tr style=\"text-align: right;\">\n",
              "      <th></th>\n",
              "      <th>Review</th>\n",
              "      <th>Positif</th>\n",
              "      <th>Negatif</th>\n",
              "      <th>Netral</th>\n",
              "    </tr>\n",
              "  </thead>\n",
              "  <tbody>\n",
              "    <tr>\n",
              "      <th>0</th>\n",
              "      <td>akses jalan luas mudah mobil motor tiket masuk...</td>\n",
              "      <td>1</td>\n",
              "      <td>0</td>\n",
              "      <td>0</td>\n",
              "    </tr>\n",
              "    <tr>\n",
              "      <th>1</th>\n",
              "      <td>recomended buat liburan bersama keluarga tempa...</td>\n",
              "      <td>1</td>\n",
              "      <td>0</td>\n",
              "      <td>0</td>\n",
              "    </tr>\n",
              "    <tr>\n",
              "      <th>2</th>\n",
              "      <td>datang kesini tempat wisata sangat nyamansejuk...</td>\n",
              "      <td>1</td>\n",
              "      <td>0</td>\n",
              "      <td>0</td>\n",
              "    </tr>\n",
              "    <tr>\n",
              "      <th>3</th>\n",
              "      <td>hutan pinus milik perhutani difungsikan wisata...</td>\n",
              "      <td>1</td>\n",
              "      <td>0</td>\n",
              "      <td>0</td>\n",
              "    </tr>\n",
              "    <tr>\n",
              "      <th>4</th>\n",
              "      <td>sebenarnya tempatnya oke bayar simasuk kesini ...</td>\n",
              "      <td>1</td>\n",
              "      <td>0</td>\n",
              "      <td>0</td>\n",
              "    </tr>\n",
              "    <tr>\n",
              "      <th>...</th>\n",
              "      <td>...</td>\n",
              "      <td>...</td>\n",
              "      <td>...</td>\n",
              "      <td>...</td>\n",
              "    </tr>\n",
              "    <tr>\n",
              "      <th>160</th>\n",
              "      <td>menarik keren cantik asli menarik sejuk indah</td>\n",
              "      <td>1</td>\n",
              "      <td>0</td>\n",
              "      <td>0</td>\n",
              "    </tr>\n",
              "    <tr>\n",
              "      <th>161</th>\n",
              "      <td>adem asli adem</td>\n",
              "      <td>1</td>\n",
              "      <td>0</td>\n",
              "      <td>0</td>\n",
              "    </tr>\n",
              "    <tr>\n",
              "      <th>162</th>\n",
              "      <td>cantik berkemah asli cantik for camping</td>\n",
              "      <td>1</td>\n",
              "      <td>0</td>\n",
              "      <td>0</td>\n",
              "    </tr>\n",
              "    <tr>\n",
              "      <th>163</th>\n",
              "      <td>dicampuradukkan asli segar</td>\n",
              "      <td>1</td>\n",
              "      <td>0</td>\n",
              "      <td>0</td>\n",
              "    </tr>\n",
              "    <tr>\n",
              "      <th>164</th>\n",
              "      <td>baik asli bagus</td>\n",
              "      <td>1</td>\n",
              "      <td>0</td>\n",
              "      <td>0</td>\n",
              "    </tr>\n",
              "  </tbody>\n",
              "</table>\n",
              "<p>165 rows × 4 columns</p>\n",
              "</div>\n",
              "      <button class=\"colab-df-convert\" onclick=\"convertToInteractive('df-7c9e90c4-32b8-472d-b79a-05466a6ba4d2')\"\n",
              "              title=\"Convert this dataframe to an interactive table.\"\n",
              "              style=\"display:none;\">\n",
              "        \n",
              "  <svg xmlns=\"http://www.w3.org/2000/svg\" height=\"24px\"viewBox=\"0 0 24 24\"\n",
              "       width=\"24px\">\n",
              "    <path d=\"M0 0h24v24H0V0z\" fill=\"none\"/>\n",
              "    <path d=\"M18.56 5.44l.94 2.06.94-2.06 2.06-.94-2.06-.94-.94-2.06-.94 2.06-2.06.94zm-11 1L8.5 8.5l.94-2.06 2.06-.94-2.06-.94L8.5 2.5l-.94 2.06-2.06.94zm10 10l.94 2.06.94-2.06 2.06-.94-2.06-.94-.94-2.06-.94 2.06-2.06.94z\"/><path d=\"M17.41 7.96l-1.37-1.37c-.4-.4-.92-.59-1.43-.59-.52 0-1.04.2-1.43.59L10.3 9.45l-7.72 7.72c-.78.78-.78 2.05 0 2.83L4 21.41c.39.39.9.59 1.41.59.51 0 1.02-.2 1.41-.59l7.78-7.78 2.81-2.81c.8-.78.8-2.07 0-2.86zM5.41 20L4 18.59l7.72-7.72 1.47 1.35L5.41 20z\"/>\n",
              "  </svg>\n",
              "      </button>\n",
              "      \n",
              "  <style>\n",
              "    .colab-df-container {\n",
              "      display:flex;\n",
              "      flex-wrap:wrap;\n",
              "      gap: 12px;\n",
              "    }\n",
              "\n",
              "    .colab-df-convert {\n",
              "      background-color: #E8F0FE;\n",
              "      border: none;\n",
              "      border-radius: 50%;\n",
              "      cursor: pointer;\n",
              "      display: none;\n",
              "      fill: #1967D2;\n",
              "      height: 32px;\n",
              "      padding: 0 0 0 0;\n",
              "      width: 32px;\n",
              "    }\n",
              "\n",
              "    .colab-df-convert:hover {\n",
              "      background-color: #E2EBFA;\n",
              "      box-shadow: 0px 1px 2px rgba(60, 64, 67, 0.3), 0px 1px 3px 1px rgba(60, 64, 67, 0.15);\n",
              "      fill: #174EA6;\n",
              "    }\n",
              "\n",
              "    [theme=dark] .colab-df-convert {\n",
              "      background-color: #3B4455;\n",
              "      fill: #D2E3FC;\n",
              "    }\n",
              "\n",
              "    [theme=dark] .colab-df-convert:hover {\n",
              "      background-color: #434B5C;\n",
              "      box-shadow: 0px 1px 3px 1px rgba(0, 0, 0, 0.15);\n",
              "      filter: drop-shadow(0px 1px 2px rgba(0, 0, 0, 0.3));\n",
              "      fill: #FFFFFF;\n",
              "    }\n",
              "  </style>\n",
              "\n",
              "      <script>\n",
              "        const buttonEl =\n",
              "          document.querySelector('#df-7c9e90c4-32b8-472d-b79a-05466a6ba4d2 button.colab-df-convert');\n",
              "        buttonEl.style.display =\n",
              "          google.colab.kernel.accessAllowed ? 'block' : 'none';\n",
              "\n",
              "        async function convertToInteractive(key) {\n",
              "          const element = document.querySelector('#df-7c9e90c4-32b8-472d-b79a-05466a6ba4d2');\n",
              "          const dataTable =\n",
              "            await google.colab.kernel.invokeFunction('convertToInteractive',\n",
              "                                                     [key], {});\n",
              "          if (!dataTable) return;\n",
              "\n",
              "          const docLinkHtml = 'Like what you see? Visit the ' +\n",
              "            '<a target=\"_blank\" href=https://colab.research.google.com/notebooks/data_table.ipynb>data table notebook</a>'\n",
              "            + ' to learn more about interactive tables.';\n",
              "          element.innerHTML = '';\n",
              "          dataTable['output_type'] = 'display_data';\n",
              "          await google.colab.output.renderOutput(dataTable, element);\n",
              "          const docLink = document.createElement('div');\n",
              "          docLink.innerHTML = docLinkHtml;\n",
              "          element.appendChild(docLink);\n",
              "        }\n",
              "      </script>\n",
              "    </div>\n",
              "  </div>\n",
              "  "
            ]
          },
          "metadata": {},
          "execution_count": 31
        }
      ]
    },
    {
      "cell_type": "code",
      "source": [
        "positif=sent_analisis['Positif'].sum()\n",
        "negatif=sent_analisis['Negatif'].sum()*-1\n",
        "netral=sent_analisis['Netral'].sum()\n",
        "print('Sentimen Positif=',positif)\n",
        "print('Sentimen Negatif=',negatif)\n",
        "print('Sentimen Netral=',netral)"
      ],
      "metadata": {
        "colab": {
          "base_uri": "https://localhost:8080/"
        },
        "id": "I8SPqRpHfltr",
        "outputId": "54e1ac3a-3081-44fe-db28-ffcdaa8c77e8"
      },
      "execution_count": null,
      "outputs": [
        {
          "output_type": "stream",
          "name": "stdout",
          "text": [
            "Sentimen Positif= 115\n",
            "Sentimen Negatif= 21\n",
            "Sentimen Netral= 0\n"
          ]
        }
      ]
    },
    {
      "cell_type": "code",
      "source": [
        "sent_analisis['label'] = ''"
      ],
      "metadata": {
        "id": "2a7piGdVfybH"
      },
      "execution_count": null,
      "outputs": []
    },
    {
      "cell_type": "code",
      "source": [
        "#pindahkan isi label positif dan negarif ke kolom label\n",
        "for i in sent_analisis.index:\n",
        "  if sent_analisis.at[i,'Positif']==1:\n",
        "    sent_analisis.at[i,'label']=1\n",
        "  elif sent_analisis.at[i,'Negatif']==-1:\n",
        "    sent_analisis.at[i,'label']=-1\n",
        "  elif ((sent_analisis.at[i,'Negatif']==0) and (sent_analisis.at[i,'Positif']==0)):\n",
        "    sent_analisis.at[i,'label']=0"
      ],
      "metadata": {
        "id": "qVGxByzSg10C"
      },
      "execution_count": null,
      "outputs": []
    },
    {
      "cell_type": "code",
      "source": [
        "sent_analisis.drop(columns=['Positif','Negatif',\t'Netral'], inplace=True)"
      ],
      "metadata": {
        "id": "YnfNAt94_2Xo"
      },
      "execution_count": null,
      "outputs": []
    },
    {
      "cell_type": "code",
      "source": [
        "sent_analisis\n"
      ],
      "metadata": {
        "colab": {
          "base_uri": "https://localhost:8080/",
          "height": 424
        },
        "id": "DjAXIHhF_5Jw",
        "outputId": "adfa6149-7b6d-4966-b4fb-62a694bae93f"
      },
      "execution_count": null,
      "outputs": [
        {
          "output_type": "execute_result",
          "data": {
            "text/plain": [
              "                                                Review label\n",
              "0    akses jalan luas mudah mobil motor tiket masuk...     1\n",
              "1    recomended buat liburan bersama keluarga tempa...     1\n",
              "2    datang kesini tempat wisata sangat nyamansejuk...     1\n",
              "3    hutan pinus milik perhutani difungsikan wisata...     1\n",
              "4    sebenarnya tempatnya oke bayar simasuk kesini ...     1\n",
              "..                                                 ...   ...\n",
              "160      menarik keren cantik asli menarik sejuk indah     1\n",
              "161                                     adem asli adem     1\n",
              "162            cantik berkemah asli cantik for camping     1\n",
              "163                         dicampuradukkan asli segar     1\n",
              "164                                    baik asli bagus     1\n",
              "\n",
              "[165 rows x 2 columns]"
            ],
            "text/html": [
              "\n",
              "  <div id=\"df-978df8fd-6679-4e29-b50c-30e62078c029\">\n",
              "    <div class=\"colab-df-container\">\n",
              "      <div>\n",
              "<style scoped>\n",
              "    .dataframe tbody tr th:only-of-type {\n",
              "        vertical-align: middle;\n",
              "    }\n",
              "\n",
              "    .dataframe tbody tr th {\n",
              "        vertical-align: top;\n",
              "    }\n",
              "\n",
              "    .dataframe thead th {\n",
              "        text-align: right;\n",
              "    }\n",
              "</style>\n",
              "<table border=\"1\" class=\"dataframe\">\n",
              "  <thead>\n",
              "    <tr style=\"text-align: right;\">\n",
              "      <th></th>\n",
              "      <th>Review</th>\n",
              "      <th>label</th>\n",
              "    </tr>\n",
              "  </thead>\n",
              "  <tbody>\n",
              "    <tr>\n",
              "      <th>0</th>\n",
              "      <td>akses jalan luas mudah mobil motor tiket masuk...</td>\n",
              "      <td>1</td>\n",
              "    </tr>\n",
              "    <tr>\n",
              "      <th>1</th>\n",
              "      <td>recomended buat liburan bersama keluarga tempa...</td>\n",
              "      <td>1</td>\n",
              "    </tr>\n",
              "    <tr>\n",
              "      <th>2</th>\n",
              "      <td>datang kesini tempat wisata sangat nyamansejuk...</td>\n",
              "      <td>1</td>\n",
              "    </tr>\n",
              "    <tr>\n",
              "      <th>3</th>\n",
              "      <td>hutan pinus milik perhutani difungsikan wisata...</td>\n",
              "      <td>1</td>\n",
              "    </tr>\n",
              "    <tr>\n",
              "      <th>4</th>\n",
              "      <td>sebenarnya tempatnya oke bayar simasuk kesini ...</td>\n",
              "      <td>1</td>\n",
              "    </tr>\n",
              "    <tr>\n",
              "      <th>...</th>\n",
              "      <td>...</td>\n",
              "      <td>...</td>\n",
              "    </tr>\n",
              "    <tr>\n",
              "      <th>160</th>\n",
              "      <td>menarik keren cantik asli menarik sejuk indah</td>\n",
              "      <td>1</td>\n",
              "    </tr>\n",
              "    <tr>\n",
              "      <th>161</th>\n",
              "      <td>adem asli adem</td>\n",
              "      <td>1</td>\n",
              "    </tr>\n",
              "    <tr>\n",
              "      <th>162</th>\n",
              "      <td>cantik berkemah asli cantik for camping</td>\n",
              "      <td>1</td>\n",
              "    </tr>\n",
              "    <tr>\n",
              "      <th>163</th>\n",
              "      <td>dicampuradukkan asli segar</td>\n",
              "      <td>1</td>\n",
              "    </tr>\n",
              "    <tr>\n",
              "      <th>164</th>\n",
              "      <td>baik asli bagus</td>\n",
              "      <td>1</td>\n",
              "    </tr>\n",
              "  </tbody>\n",
              "</table>\n",
              "<p>165 rows × 2 columns</p>\n",
              "</div>\n",
              "      <button class=\"colab-df-convert\" onclick=\"convertToInteractive('df-978df8fd-6679-4e29-b50c-30e62078c029')\"\n",
              "              title=\"Convert this dataframe to an interactive table.\"\n",
              "              style=\"display:none;\">\n",
              "        \n",
              "  <svg xmlns=\"http://www.w3.org/2000/svg\" height=\"24px\"viewBox=\"0 0 24 24\"\n",
              "       width=\"24px\">\n",
              "    <path d=\"M0 0h24v24H0V0z\" fill=\"none\"/>\n",
              "    <path d=\"M18.56 5.44l.94 2.06.94-2.06 2.06-.94-2.06-.94-.94-2.06-.94 2.06-2.06.94zm-11 1L8.5 8.5l.94-2.06 2.06-.94-2.06-.94L8.5 2.5l-.94 2.06-2.06.94zm10 10l.94 2.06.94-2.06 2.06-.94-2.06-.94-.94-2.06-.94 2.06-2.06.94z\"/><path d=\"M17.41 7.96l-1.37-1.37c-.4-.4-.92-.59-1.43-.59-.52 0-1.04.2-1.43.59L10.3 9.45l-7.72 7.72c-.78.78-.78 2.05 0 2.83L4 21.41c.39.39.9.59 1.41.59.51 0 1.02-.2 1.41-.59l7.78-7.78 2.81-2.81c.8-.78.8-2.07 0-2.86zM5.41 20L4 18.59l7.72-7.72 1.47 1.35L5.41 20z\"/>\n",
              "  </svg>\n",
              "      </button>\n",
              "      \n",
              "  <style>\n",
              "    .colab-df-container {\n",
              "      display:flex;\n",
              "      flex-wrap:wrap;\n",
              "      gap: 12px;\n",
              "    }\n",
              "\n",
              "    .colab-df-convert {\n",
              "      background-color: #E8F0FE;\n",
              "      border: none;\n",
              "      border-radius: 50%;\n",
              "      cursor: pointer;\n",
              "      display: none;\n",
              "      fill: #1967D2;\n",
              "      height: 32px;\n",
              "      padding: 0 0 0 0;\n",
              "      width: 32px;\n",
              "    }\n",
              "\n",
              "    .colab-df-convert:hover {\n",
              "      background-color: #E2EBFA;\n",
              "      box-shadow: 0px 1px 2px rgba(60, 64, 67, 0.3), 0px 1px 3px 1px rgba(60, 64, 67, 0.15);\n",
              "      fill: #174EA6;\n",
              "    }\n",
              "\n",
              "    [theme=dark] .colab-df-convert {\n",
              "      background-color: #3B4455;\n",
              "      fill: #D2E3FC;\n",
              "    }\n",
              "\n",
              "    [theme=dark] .colab-df-convert:hover {\n",
              "      background-color: #434B5C;\n",
              "      box-shadow: 0px 1px 3px 1px rgba(0, 0, 0, 0.15);\n",
              "      filter: drop-shadow(0px 1px 2px rgba(0, 0, 0, 0.3));\n",
              "      fill: #FFFFFF;\n",
              "    }\n",
              "  </style>\n",
              "\n",
              "      <script>\n",
              "        const buttonEl =\n",
              "          document.querySelector('#df-978df8fd-6679-4e29-b50c-30e62078c029 button.colab-df-convert');\n",
              "        buttonEl.style.display =\n",
              "          google.colab.kernel.accessAllowed ? 'block' : 'none';\n",
              "\n",
              "        async function convertToInteractive(key) {\n",
              "          const element = document.querySelector('#df-978df8fd-6679-4e29-b50c-30e62078c029');\n",
              "          const dataTable =\n",
              "            await google.colab.kernel.invokeFunction('convertToInteractive',\n",
              "                                                     [key], {});\n",
              "          if (!dataTable) return;\n",
              "\n",
              "          const docLinkHtml = 'Like what you see? Visit the ' +\n",
              "            '<a target=\"_blank\" href=https://colab.research.google.com/notebooks/data_table.ipynb>data table notebook</a>'\n",
              "            + ' to learn more about interactive tables.';\n",
              "          element.innerHTML = '';\n",
              "          dataTable['output_type'] = 'display_data';\n",
              "          await google.colab.output.renderOutput(dataTable, element);\n",
              "          const docLink = document.createElement('div');\n",
              "          docLink.innerHTML = docLinkHtml;\n",
              "          element.appendChild(docLink);\n",
              "        }\n",
              "      </script>\n",
              "    </div>\n",
              "  </div>\n",
              "  "
            ]
          },
          "metadata": {},
          "execution_count": 38
        }
      ]
    },
    {
      "cell_type": "code",
      "source": [
        "sent_analisis['label'].unique()"
      ],
      "metadata": {
        "colab": {
          "base_uri": "https://localhost:8080/"
        },
        "id": "C5owQOZIAOy5",
        "outputId": "5e535cc4-8bbf-40ac-cf37-3631f908e7e5"
      },
      "execution_count": null,
      "outputs": [
        {
          "output_type": "execute_result",
          "data": {
            "text/plain": [
              "array([1, 0, -1], dtype=object)"
            ]
          },
          "metadata": {},
          "execution_count": 41
        }
      ]
    },
    {
      "cell_type": "code",
      "source": [
        "print('Positif = {}'.format(sent_analisis[sent_analisis['label']==1]['label'].count()))\n",
        "print('Neegatif = {}'.format(sent_analisis[sent_analisis['label']==-1]['label'].count()))\n",
        "print('Netral = {}'.format(sent_analisis[sent_analisis['label']==0]['label'].count()))"
      ],
      "metadata": {
        "colab": {
          "base_uri": "https://localhost:8080/"
        },
        "id": "osq1Dg54AUIc",
        "outputId": "78de3bc1-2247-4340-e785-f44ca184daf9"
      },
      "execution_count": null,
      "outputs": [
        {
          "output_type": "stream",
          "name": "stdout",
          "text": [
            "Positif = 115\n",
            "Neegatif = 21\n",
            "Netral = 29\n"
          ]
        }
      ]
    },
    {
      "cell_type": "code",
      "source": [
        "from sklearn.feature_extraction.text import TfidfVectorizer\n",
        "from sklearn.model_selection import train_test_split\n",
        "\n",
        "vector = TfidfVectorizer()\n",
        "x = vector.fit_transform(sent_analisis['Review']).toarray()\n",
        "\n",
        "y = sent_analisis['label'].astype(int)\n",
        "x_train, x_test, y_train, y_test = train_test_split(x_tf_idf, y, test_size=0.3, random_state=42)"
      ],
      "metadata": {
        "id": "wnLZPjTMA_Pm"
      },
      "execution_count": null,
      "outputs": []
    },
    {
      "cell_type": "code",
      "source": [
        "from sklearn.svm import SVC\n",
        "svm = SVC()\n",
        "\n",
        "svm.fit(x_train, y_train)"
      ],
      "metadata": {
        "colab": {
          "base_uri": "https://localhost:8080/"
        },
        "id": "unUr8iu4Dn8F",
        "outputId": "9259387c-19cc-4d39-8d3d-cd0b3665ba1f"
      },
      "execution_count": null,
      "outputs": [
        {
          "output_type": "execute_result",
          "data": {
            "text/plain": [
              "SVC()"
            ]
          },
          "metadata": {},
          "execution_count": 155
        }
      ]
    },
    {
      "cell_type": "code",
      "source": [
        "y_pred = svm.predict(x_test)"
      ],
      "metadata": {
        "id": "jso3-J2HDrdH"
      },
      "execution_count": null,
      "outputs": []
    },
    {
      "cell_type": "code",
      "source": [
        "from sklearn.metrics import classification_report, accuracy_score, confusion_matrix\n",
        "print(classification_report(y_test, y_pred))\n"
      ],
      "metadata": {
        "colab": {
          "base_uri": "https://localhost:8080/"
        },
        "id": "DCrWx2RCGPj-",
        "outputId": "6b22ca63-e5fd-4aee-de68-fbf0a247b104"
      },
      "execution_count": null,
      "outputs": [
        {
          "output_type": "stream",
          "name": "stdout",
          "text": [
            "              precision    recall  f1-score   support\n",
            "\n",
            "          -1       0.00      0.00      0.00         4\n",
            "           0       0.50      0.14      0.22         7\n",
            "           1       0.79      0.97      0.87        39\n",
            "\n",
            "    accuracy                           0.78        50\n",
            "   macro avg       0.43      0.37      0.37        50\n",
            "weighted avg       0.69      0.78      0.71        50\n",
            "\n"
          ]
        },
        {
          "output_type": "stream",
          "name": "stderr",
          "text": [
            "/usr/local/lib/python3.8/dist-packages/sklearn/metrics/_classification.py:1318: UndefinedMetricWarning: Precision and F-score are ill-defined and being set to 0.0 in labels with no predicted samples. Use `zero_division` parameter to control this behavior.\n",
            "  _warn_prf(average, modifier, msg_start, len(result))\n",
            "/usr/local/lib/python3.8/dist-packages/sklearn/metrics/_classification.py:1318: UndefinedMetricWarning: Precision and F-score are ill-defined and being set to 0.0 in labels with no predicted samples. Use `zero_division` parameter to control this behavior.\n",
            "  _warn_prf(average, modifier, msg_start, len(result))\n",
            "/usr/local/lib/python3.8/dist-packages/sklearn/metrics/_classification.py:1318: UndefinedMetricWarning: Precision and F-score are ill-defined and being set to 0.0 in labels with no predicted samples. Use `zero_division` parameter to control this behavior.\n",
            "  _warn_prf(average, modifier, msg_start, len(result))\n"
          ]
        }
      ]
    },
    {
      "cell_type": "code",
      "source": [
        "print('accuracy score SVM : ', accuracy_score(y_test, y_pred))"
      ],
      "metadata": {
        "colab": {
          "base_uri": "https://localhost:8080/"
        },
        "id": "FeZXf-MfGeAG",
        "outputId": "cc121478-ef96-4c3c-db1a-caf6de6cd95e"
      },
      "execution_count": null,
      "outputs": [
        {
          "output_type": "stream",
          "name": "stdout",
          "text": [
            "accuracy score SVM :  0.78\n"
          ]
        }
      ]
    },
    {
      "cell_type": "code",
      "source": [
        "from sklearn.naive_bayes import GaussianNB\n",
        "GNB = GaussianNB()\n",
        "GNB.fit(x_train, y_train)"
      ],
      "metadata": {
        "colab": {
          "base_uri": "https://localhost:8080/"
        },
        "id": "QYYdIE8vG53l",
        "outputId": "f59c5762-f622-4544-c96c-127fc93f86b6"
      },
      "execution_count": null,
      "outputs": [
        {
          "output_type": "execute_result",
          "data": {
            "text/plain": [
              "GaussianNB()"
            ]
          },
          "metadata": {},
          "execution_count": 159
        }
      ]
    },
    {
      "cell_type": "code",
      "source": [
        "y_pred1 = GNB.predict(x_test)\n"
      ],
      "metadata": {
        "id": "OVPgTOeXHUFd"
      },
      "execution_count": null,
      "outputs": []
    },
    {
      "cell_type": "code",
      "source": [
        "print('accuracy score naive bayes : {}'.format(accuracy_score(y_test, y_pred1)))"
      ],
      "metadata": {
        "colab": {
          "base_uri": "https://localhost:8080/"
        },
        "id": "cPB6O1SYH2LX",
        "outputId": "4aa3db98-fcf7-4f0c-a00e-7dc48ea53791"
      },
      "execution_count": null,
      "outputs": [
        {
          "output_type": "stream",
          "name": "stdout",
          "text": [
            "accuracy score naive bayes : 0.68\n"
          ]
        }
      ]
    },
    {
      "cell_type": "code",
      "source": [
        "from sklearn.ensemble import AdaBoostClassifier\n",
        "\n",
        "adb = AdaBoostClassifier()\n",
        "adb.fit(x_train, y_train)\n",
        "y_pred2 = adb.predict(x_test)"
      ],
      "metadata": {
        "id": "zZmM39qwIGb2"
      },
      "execution_count": null,
      "outputs": []
    },
    {
      "cell_type": "code",
      "source": [
        "print('accuracy score Adaboost : {}'.format(accuracy_score(y_test, y_pred2)))"
      ],
      "metadata": {
        "colab": {
          "base_uri": "https://localhost:8080/"
        },
        "id": "TTFJAbBRIhHc",
        "outputId": "0a933f32-7579-49fd-8484-c2ec663c469c"
      },
      "execution_count": null,
      "outputs": [
        {
          "output_type": "stream",
          "name": "stdout",
          "text": [
            "accuracy score Adaboost : 0.72\n"
          ]
        }
      ]
    },
    {
      "cell_type": "code",
      "source": [
        "from sklearn.tree import DecisionTreeClassifier\n",
        "dt = DecisionTreeClassifier()\n",
        "\n",
        "dt.fit(x_train, y_train)\n",
        "y_pred3 = dt.predict(x_test)"
      ],
      "metadata": {
        "id": "AOb7Ok8AIlFq"
      },
      "execution_count": null,
      "outputs": []
    },
    {
      "cell_type": "code",
      "source": [
        "print('accuracy score Decision Tree : {}'.format(accuracy_score(y_test, y_pred3)))"
      ],
      "metadata": {
        "colab": {
          "base_uri": "https://localhost:8080/"
        },
        "id": "Stay81ygJKvI",
        "outputId": "a6226f8a-4ff5-4d23-e809-0e5dd9115cb8"
      },
      "execution_count": null,
      "outputs": [
        {
          "output_type": "stream",
          "name": "stdout",
          "text": [
            "accuracy score Decision Tree : 0.72\n"
          ]
        }
      ]
    },
    {
      "cell_type": "code",
      "source": [
        "import matplotlib.pyplot as plt\n",
        "import seaborn as sns\n",
        "f, ax = plt.subplots(figsize=(8,5))\n",
        "sns.heatmap(confusion_matrix(y_test, y_pred), annot=True, fmt=\".0f\", ax=ax)\n",
        "plt.xlabel(\"Predicted Label\")\n",
        "plt.ylabel(\"Actual/ True Label\")\n",
        "print('INI ADALAH GRAFIK CONFUSION MATRIX SVM')\n",
        "plt.show()"
      ],
      "metadata": {
        "colab": {
          "base_uri": "https://localhost:8080/",
          "height": 352
        },
        "id": "lAgahAxqJNcS",
        "outputId": "1e9909f7-d41f-4bed-bf0d-c4f19731b795"
      },
      "execution_count": null,
      "outputs": [
        {
          "output_type": "stream",
          "name": "stdout",
          "text": [
            "INI ADALAH GRAFIK CONFUSION MATRIX SVM\n"
          ]
        },
        {
          "output_type": "display_data",
          "data": {
            "text/plain": [
              "<Figure size 576x360 with 2 Axes>"
            ],
            "image/png": "[encoded data removed]"
          },
          "metadata": {
            "needs_background": "light"
          }
        }
      ]
    },
    {
      "cell_type": "code",
      "source": [
        "import matplotlib.pyplot as plt\n",
        "import seaborn as sns\n",
        "f, ax = plt.subplots(figsize=(8,5))\n",
        "sns.heatmap(confusion_matrix(y_test, y_pred1), annot=True, fmt=\".0f\", ax=ax)\n",
        "plt.xlabel(\"Predicted Label\")\n",
        "plt.ylabel(\"Actual/ True Label\")\n",
        "print('INI ADALAH GRAFIK CONFUSION MATRIX Naive bayes')\n",
        "plt.show()"
      ],
      "metadata": {
        "colab": {
          "base_uri": "https://localhost:8080/",
          "height": 352
        },
        "id": "yjX0PoYKKIt_",
        "outputId": "681f640d-f5a2-4013-ec0b-535e10de511f"
      },
      "execution_count": null,
      "outputs": [
        {
          "output_type": "stream",
          "name": "stdout",
          "text": [
            "INI ADALAH GRAFIK CONFUSION MATRIX Naive bayes\n"
          ]
        },
        {
          "output_type": "display_data",
          "data": {
            "text/plain": [
              "<Figure size 576x360 with 2 Axes>"
            ],
            "image/png": "[encoded data removed]"
          },
          "metadata": {
            "needs_background": "light"
          }
        }
      ]
    },
    {
      "cell_type": "code",
      "source": [
        "import matplotlib.pyplot as plt\n",
        "import seaborn as sns\n",
        "f, ax = plt.subplots(figsize=(8,5))\n",
        "sns.heatmap(confusion_matrix(y_test, y_pred2), annot=True, fmt=\".0f\", ax=ax)\n",
        "plt.xlabel(\"Predicted Label\")\n",
        "plt.ylabel(\"Actual/ True Label\")\n",
        "print('INI ADALAH GRAFIK CONFUSION MATRIX Adaboost')\n",
        "plt.show()"
      ],
      "metadata": {
        "colab": {
          "base_uri": "https://localhost:8080/",
          "height": 352
        },
        "id": "HgqNGUdLK9jF",
        "outputId": "0ff14873-4e28-42b7-c090-821b0bbea60b"
      },
      "execution_count": null,
      "outputs": [
        {
          "output_type": "stream",
          "name": "stdout",
          "text": [
            "INI ADALAH GRAFIK CONFUSION MATRIX Adaboost\n"
          ]
        },
        {
          "output_type": "display_data",
          "data": {
            "text/plain": [
              "<Figure size 576x360 with 2 Axes>"
            ],
            "image/png": "[encoded data removed]"
          },
          "metadata": {
            "needs_background": "light"
          }
        }
      ]
    },
    {
      "cell_type": "code",
      "source": [
        "import matplotlib.pyplot as plt\n",
        "import seaborn as sns\n",
        "f, ax = plt.subplots(figsize=(8,5))\n",
        "sns.heatmap(confusion_matrix(y_test, y_pred3), annot=True, fmt=\".0f\", ax=ax)\n",
        "plt.xlabel(\"Predicted Label\")\n",
        "plt.ylabel(\"Actual/ True Label\")\n",
        "print('INI ADALAH GRAFIK CONFUSION MATRIX Decision Tree')\n",
        "plt.show()"
      ],
      "metadata": {
        "colab": {
          "base_uri": "https://localhost:8080/",
          "height": 356
        },
        "id": "e8lCIgrsLCiO",
        "outputId": "b70a74a2-cfc3-4207-ef7e-e72cab3731a0"
      },
      "execution_count": null,
      "outputs": [
        {
          "output_type": "stream",
          "name": "stdout",
          "text": [
            "INI ADALAH GRAFIK CONFUSION MATRIX Decision Tree\n"
          ]
        },
        {
          "output_type": "display_data",
          "data": {
            "text/plain": [
              "<Figure size 576x360 with 2 Axes>"
            ],
            "image/png": "[encoded data removed]"
          },
          "metadata": {
            "needs_background": "light"
          }
        }
      ]
    },
    {
      "cell_type": "code",
      "source": [],
      "metadata": {
        "id": "UBf_uMRqLGY4"
      },
      "execution_count": null,
      "outputs": []
    }
  ]
}